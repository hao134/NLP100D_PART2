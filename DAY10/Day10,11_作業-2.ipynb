{
  "nbformat": 4,
  "nbformat_minor": 0,
  "metadata": {
    "kernelspec": {
      "display_name": "Python 3",
      "language": "python",
      "name": "python3"
    },
    "language_info": {
      "codemirror_mode": {
        "name": "ipython",
        "version": 3
      },
      "file_extension": ".py",
      "mimetype": "text/x-python",
      "name": "python",
      "nbconvert_exporter": "python",
      "pygments_lexer": "ipython3",
      "version": "3.7.4"
    },
    "colab": {
      "name": "Day10,11_作業.ipynb",
      "provenance": [],
      "toc_visible": true
    },
    "accelerator": "GPU"
  },
  "cells": [
    {
      "cell_type": "code",
      "metadata": {
        "id": "bBH-1bvNrvVm"
      },
      "source": [
        "import torch\n",
        "import torch.nn as nn\n",
        "import torchvision.models as models\n",
        "import torch.nn.functional as F\n",
        "import numpy as np\n",
        "import matplotlib.pyplot as plt\n",
        "import pandas as pd\n",
        "import os\n",
        "import glob\n",
        "import codecs\n",
        "import re\n",
        "\n",
        "from sklearn.model_selection import train_test_split\n",
        "from sklearn import metrics\n",
        "from sklearn.metrics import classification_report"
      ],
      "execution_count": 1,
      "outputs": []
    },
    {
      "cell_type": "markdown",
      "metadata": {
        "id": "cCzikhHErvVq"
      },
      "source": [
        "## 資料準備 : 詳細介紹可參考NLP第一階段課程Day20,21"
      ]
    },
    {
      "cell_type": "code",
      "metadata": {
        "id": "EGmGVVoCrvVq"
      },
      "source": [
        "all_data=[]\n",
        "paths =[r'spam_data/spam', r'spam_data/easy_ham', r'spam_data/hard_ham'] \n",
        "for path in paths:\n",
        "    for fn in glob.glob(path+\"/*\"):\n",
        "        if \"ham\" not in fn:\n",
        "            is_spam = 1\n",
        "        else:\n",
        "            is_spam = 0\n",
        "        #codecs.open可以避開錯誤，用errors='ignore'\n",
        "        with codecs.open(fn,encoding='utf-8', errors='ignore') as file:\n",
        "            for line in file:\n",
        "                #這個line的開頭為Subject:\n",
        "                if line.startswith(\"Subject:\"):\n",
        "                    subject=re.sub(r\"^Subject:\",\"\",line).strip()\n",
        "                    all_data.append([subject,is_spam])\n",
        "all_data = np.array(all_data)"
      ],
      "execution_count": 3,
      "outputs": []
    },
    {
      "cell_type": "code",
      "metadata": {
        "colab": {
          "base_uri": "https://localhost:8080/"
        },
        "id": "UiSO63Lp00EO",
        "outputId": "e91cdd66-e827-40f2-f5e7-df5e8f9548b0"
      },
      "source": [
        "all_data.shape"
      ],
      "execution_count": 4,
      "outputs": [
        {
          "output_type": "execute_result",
          "data": {
            "text/plain": [
              "(3423, 2)"
            ]
          },
          "metadata": {
            "tags": []
          },
          "execution_count": 4
        }
      ]
    },
    {
      "cell_type": "code",
      "metadata": {
        "id": "R5l9ar-urvVr"
      },
      "source": [
        " X = all_data[:,0]\n",
        "Y = all_data[:,1].astype(np.uint8)"
      ],
      "execution_count": 5,
      "outputs": []
    },
    {
      "cell_type": "code",
      "metadata": {
        "colab": {
          "base_uri": "https://localhost:8080/"
        },
        "id": "7OSxsbZErvVr",
        "outputId": "ec3a2f18-1748-44df-d291-2282dbcccfba"
      },
      "source": [
        "from sklearn.metrics import confusion_matrix\n",
        "from nltk.corpus import stopwords\n",
        "\n",
        "import nltk\n",
        "\n",
        "nltk.download('stopwords')\n",
        "nltk.download('punkt')\n",
        "nltk.download('averaged_perceptron_tagger')\n",
        "nltk.download('wordnet')\n",
        "\n",
        "# Lemmatize with POS Tag\n",
        "from nltk.corpus import wordnet\n",
        "from nltk.stem import WordNetLemmatizer \n",
        "\n",
        "## 創建Lemmatizer\n",
        "lemmatizer = WordNetLemmatizer() \n",
        "def get_wordnet_pos(word):\n",
        "    \"\"\"將pos_tag結果mapping到lemmatizer中pos的格式\"\"\"\n",
        "    tag = nltk.pos_tag([word])[0][1][0].upper()\n",
        "    tag_dict = {\"J\": wordnet.ADJ,\n",
        "                \"N\": wordnet.NOUN,\n",
        "                \"V\": wordnet.VERB,\n",
        "                \"R\": wordnet.ADV}\n",
        "\n",
        "    return tag_dict.get(tag, wordnet.NOUN)\n",
        "\n",
        "\n",
        "def clean_content(X):\n",
        "    # remove non-alphabet characters\n",
        "    X_clean = [re.sub('[^a-zA-Z]',' ', x).lower() for x in X]\n",
        "    # tokenize\n",
        "    X_word_tokenize = [nltk.word_tokenize(x) for x in X_clean]\n",
        "    # stopwords_lemmatizer\n",
        "    X_stopwords_lemmatizer = []\n",
        "    stop_words = set(stopwords.words('english'))\n",
        "    for content in X_word_tokenize:\n",
        "        content_clean = []\n",
        "        for word in content:\n",
        "            if word not in stop_words:\n",
        "                word = lemmatizer.lemmatize(word, get_wordnet_pos(word))\n",
        "                content_clean.append(word)\n",
        "        X_stopwords_lemmatizer.append(content_clean)\n",
        "    \n",
        "    X_output = [' '.join(x) for x in X_stopwords_lemmatizer]\n",
        "    \n",
        "    return X_output\n",
        "                 "
      ],
      "execution_count": 6,
      "outputs": [
        {
          "output_type": "stream",
          "text": [
            "[nltk_data] Downloading package stopwords to /root/nltk_data...\n",
            "[nltk_data]   Package stopwords is already up-to-date!\n",
            "[nltk_data] Downloading package punkt to /root/nltk_data...\n",
            "[nltk_data]   Package punkt is already up-to-date!\n",
            "[nltk_data] Downloading package averaged_perceptron_tagger to\n",
            "[nltk_data]     /root/nltk_data...\n",
            "[nltk_data]   Package averaged_perceptron_tagger is already up-to-\n",
            "[nltk_data]       date!\n",
            "[nltk_data] Downloading package wordnet to /root/nltk_data...\n",
            "[nltk_data]   Package wordnet is already up-to-date!\n"
          ],
          "name": "stdout"
        }
      ]
    },
    {
      "cell_type": "code",
      "metadata": {
        "id": "1BviePYFrvVt"
      },
      "source": [
        "X = clean_content(X)"
      ],
      "execution_count": 7,
      "outputs": []
    },
    {
      "cell_type": "code",
      "metadata": {
        "id": "BnfvOdVarvVt"
      },
      "source": [
        "from sklearn.feature_extraction.text import CountVectorizer\n",
        "#max_features是要建造幾個column，會按造字出現的頻率高低去篩選，1500並沒有特別含義，大家可以自己嘗試不同數值或不加入限制\n",
        "cv=CountVectorizer(max_features = 1500)\n",
        "X=cv.fit_transform(X).toarray()"
      ],
      "execution_count": 8,
      "outputs": []
    },
    {
      "cell_type": "code",
      "metadata": {
        "id": "05o_Xwi-rvVu"
      },
      "source": [
        "from sklearn.model_selection import train_test_split\n",
        "# random_state是為了讓各為學員得到相同的結果，平時可以移除\n",
        "x_train, x_test, y_train, y_test = train_test_split(X, Y, test_size = 0.2, random_state = 0)"
      ],
      "execution_count": 9,
      "outputs": []
    },
    {
      "cell_type": "code",
      "metadata": {
        "colab": {
          "base_uri": "https://localhost:8080/"
        },
        "id": "Li5Tdu0qrvVv",
        "outputId": "20527669-0b03-4713-8829-cabcfd399211"
      },
      "source": [
        "x_train.shape"
      ],
      "execution_count": 10,
      "outputs": [
        {
          "output_type": "execute_result",
          "data": {
            "text/plain": [
              "(2738, 1500)"
            ]
          },
          "metadata": {
            "tags": []
          },
          "execution_count": 10
        }
      ]
    },
    {
      "cell_type": "code",
      "metadata": {
        "colab": {
          "base_uri": "https://localhost:8080/"
        },
        "id": "WTtmcK4VrvVw",
        "outputId": "1ba01518-9735-469c-9508-99cb9e73b0e0"
      },
      "source": [
        "np.unique(y_train)"
      ],
      "execution_count": 11,
      "outputs": [
        {
          "output_type": "execute_result",
          "data": {
            "text/plain": [
              "array([0, 1], dtype=uint8)"
            ]
          },
          "metadata": {
            "tags": []
          },
          "execution_count": 11
        }
      ]
    },
    {
      "cell_type": "markdown",
      "metadata": {
        "id": "qUn4byXmrvVw"
      },
      "source": [
        "### 判斷是否有GPU可以使用"
      ]
    },
    {
      "cell_type": "code",
      "metadata": {
        "id": "0L3yiRw2rvVw"
      },
      "source": [
        "device = 'cuda' if torch.cuda.is_available() else 'cpu'"
      ],
      "execution_count": 12,
      "outputs": []
    },
    {
      "cell_type": "markdown",
      "metadata": {
        "id": "JpeGMF57rvVx"
      },
      "source": [
        "### 模型搭建"
      ]
    },
    {
      "cell_type": "code",
      "metadata": {
        "id": "Z3LarnA3rvVx"
      },
      "source": [
        "class LinearBNAC(nn.Module):\n",
        "    def __init__(self, in_channels, out_channels, bias=True, dropout=0.3, is_output=False):\n",
        "        super(LinearBNAC, self).__init__()\n",
        "        if is_output:\n",
        "            self.linear = nn.Linear(in_channels, out_channels, bias=bias)\n",
        "        else:\n",
        "            self.linear = nn.Sequential(\n",
        "                nn.Linear(in_channels, out_channels, bias=bias),\n",
        "                nn.BatchNorm1d(out_channels),\n",
        "                nn.LeakyReLU(inplace=True),\n",
        "                nn.Dropout(dropout),\n",
        "            )\n",
        "            \n",
        "    def forward(self, x):\n",
        "        out=self.linear(x)\n",
        "        return out"
      ],
      "execution_count": 13,
      "outputs": []
    },
    {
      "cell_type": "code",
      "metadata": {
        "id": "QFdoVgWBrvVy"
      },
      "source": [
        "class Model(nn.Module):\n",
        "    def __init__(self, input_dimention, output_classes=1):\n",
        "        super(Model, self).__init__()\n",
        "        self.layer1 = LinearBNAC(input_dimention, 16)\n",
        "        self.layer2 = LinearBNAC(16, 32)\n",
        "        self.output = LinearBNAC(32, output_classes, is_output=True)\n",
        "    def forward(self, x):\n",
        "        x = self.layer1(x)\n",
        "        x = self.layer2(x)\n",
        "        x = self.output(x)\n",
        "        return x  \n",
        "        "
      ],
      "execution_count": 14,
      "outputs": []
    },
    {
      "cell_type": "markdown",
      "metadata": {
        "id": "kjjgxpYdrvVz"
      },
      "source": [
        "### 建立模型"
      ]
    },
    {
      "cell_type": "markdown",
      "metadata": {
        "id": "WEkz7wJDrvVz"
      },
      "source": [
        "* to(device) 代表轉成 cpu or gpu 模式 (gpu 模式下稱為 cuda)"
      ]
    },
    {
      "cell_type": "code",
      "metadata": {
        "id": "aqa_u1oHrvV0"
      },
      "source": [
        "model = Model(input_dimention=1500,output_classes=2).to(device)"
      ],
      "execution_count": 15,
      "outputs": []
    },
    {
      "cell_type": "code",
      "metadata": {
        "colab": {
          "base_uri": "https://localhost:8080/"
        },
        "id": "U0rbspi92N3z",
        "outputId": "915e9b4d-c231-47e5-a3e5-58ba36d376ce"
      },
      "source": [
        "for name,_ in model.named_parameters():\n",
        "    print(name, _.shape)"
      ],
      "execution_count": 16,
      "outputs": [
        {
          "output_type": "stream",
          "text": [
            "layer1.linear.0.weight torch.Size([16, 1500])\n",
            "layer1.linear.0.bias torch.Size([16])\n",
            "layer1.linear.1.weight torch.Size([16])\n",
            "layer1.linear.1.bias torch.Size([16])\n",
            "layer2.linear.0.weight torch.Size([32, 16])\n",
            "layer2.linear.0.bias torch.Size([32])\n",
            "layer2.linear.1.weight torch.Size([32])\n",
            "layer2.linear.1.bias torch.Size([32])\n",
            "output.linear.weight torch.Size([2, 32])\n",
            "output.linear.bias torch.Size([2])\n"
          ],
          "name": "stdout"
        }
      ]
    },
    {
      "cell_type": "code",
      "metadata": {
        "id": "aJ2wHnUUrvV1"
      },
      "source": [
        "batch_size = 4\n",
        "input_features = 1500\n",
        "dummy_input = torch.randn(batch_size, input_features).to(device)\n"
      ],
      "execution_count": 17,
      "outputs": []
    },
    {
      "cell_type": "code",
      "metadata": {
        "colab": {
          "base_uri": "https://localhost:8080/"
        },
        "id": "QQH5Zf1PrvV2",
        "outputId": "0703bc97-8eb8-4ef2-fbdf-8bdb50ef08fa"
      },
      "source": [
        "output = model(dummy_input)\n",
        "print(output)"
      ],
      "execution_count": 18,
      "outputs": [
        {
          "output_type": "stream",
          "text": [
            "tensor([[-0.1292, -0.1524],\n",
            "        [ 0.1937,  0.8712],\n",
            "        [ 0.4004, -0.6804],\n",
            "        [ 0.1165, -0.2599]], device='cuda:0', grad_fn=<AddmmBackward>)\n"
          ],
          "name": "stdout"
        }
      ]
    },
    {
      "cell_type": "markdown",
      "metadata": {
        "id": "6UFz40oBrvV3"
      },
      "source": [
        "## Loss"
      ]
    },
    {
      "cell_type": "markdown",
      "metadata": {
        "id": "5rk70N36rvV3"
      },
      "source": [
        "#### classification"
      ]
    },
    {
      "cell_type": "code",
      "metadata": {
        "id": "xq9fK9LBrvV4"
      },
      "source": [
        "from torch.nn import NLLLoss, LogSoftmax, CrossEntropyLoss"
      ],
      "execution_count": 19,
      "outputs": []
    },
    {
      "cell_type": "code",
      "metadata": {
        "id": "iAzd59wwrvV4"
      },
      "source": [
        "## CrossEntropyLoss = LogSoftmax + NLLLoss"
      ],
      "execution_count": 20,
      "outputs": []
    },
    {
      "cell_type": "markdown",
      "metadata": {
        "id": "TYh3CVgUrvV5"
      },
      "source": [
        "* CrossEntropyLoss"
      ]
    },
    {
      "cell_type": "code",
      "metadata": {
        "id": "G3kERZyXrvV5"
      },
      "source": [
        "criterion = CrossEntropyLoss()"
      ],
      "execution_count": 21,
      "outputs": []
    },
    {
      "cell_type": "markdown",
      "metadata": {
        "id": "Tf8CuaX1rvV6"
      },
      "source": [
        "## optimizer"
      ]
    },
    {
      "cell_type": "code",
      "metadata": {
        "id": "RtIMuF0mrvV6"
      },
      "source": [
        "import torch.optim as optim"
      ],
      "execution_count": 22,
      "outputs": []
    },
    {
      "cell_type": "markdown",
      "metadata": {
        "id": "kyaeylUzrvV6"
      },
      "source": [
        "* params : iterable of parameters\n",
        "* lr : learning rate\n",
        "* weight_decay : (L2) Regularization (正則化) "
      ]
    },
    {
      "cell_type": "code",
      "metadata": {
        "id": "MMLvXvjqrvV7"
      },
      "source": [
        "optimizer = optim.Adam(params=model.parameters(), lr=1e-3)"
      ],
      "execution_count": 23,
      "outputs": []
    },
    {
      "cell_type": "markdown",
      "metadata": {
        "id": "OFVhzt5HrvV7"
      },
      "source": [
        "### 訓練前準備"
      ]
    },
    {
      "cell_type": "code",
      "metadata": {
        "id": "HLxjorsZrvV8"
      },
      "source": [
        "x_train = torch.tensor(x_train, dtype=torch.float32).to(device)\n",
        "x_test = torch.tensor(x_test, dtype=torch.float32).to(device)\n",
        "\n",
        "y_train_numpy = y_train.copy()\n",
        "y_test_numpy = y_test.copy()\n",
        "\n",
        "y_train = torch.tensor(y_train, dtype=torch.long).to(device)\n",
        "y_test = torch.tensor(y_test, dtype=torch.long).to(device)"
      ],
      "execution_count": 24,
      "outputs": []
    },
    {
      "cell_type": "code",
      "metadata": {
        "id": "sPMAOm4_rvV8"
      },
      "source": [
        "batch_size = 4\n",
        "epochs = 50\n",
        "softmax = nn.Softmax(-1)\n",
        "\n",
        "index = np.array([x for x in range(len(x_train))])"
      ],
      "execution_count": 25,
      "outputs": []
    },
    {
      "cell_type": "markdown",
      "metadata": {
        "id": "uYvUyeqPrvV9"
      },
      "source": [
        "### 訓練"
      ]
    },
    {
      "cell_type": "code",
      "metadata": {
        "colab": {
          "base_uri": "https://localhost:8080/"
        },
        "id": "HpNoprJm23GD",
        "outputId": "52118509-7e3d-494c-c908-d7eaf795b3bc"
      },
      "source": [
        "train_loss_ = []\n",
        "test_loss_ = []\n",
        "train_accuracy_ = []\n",
        "test_accuracy_ = []\n",
        "for epoch in range(epochs):\n",
        "    \n",
        "    np.random.shuffle(index)\n",
        "    x_train = x_train[index]\n",
        "    y_train = y_train[index]\n",
        "\n",
        "    loss_keeper = []\n",
        "    model.train()\n",
        "    \n",
        "    for batch in range(len(x_train)//batch_size):\n",
        "        x = x_train[batch*batch_size : (batch+1)*batch_size,:]\n",
        "        y = y_train[batch*batch_size : (batch+1)*batch_size]\n",
        "        output = model(x)\n",
        "        loss_train = criterion(output, y)\n",
        "        loss_train.backward()\n",
        "        optimizer.step()\n",
        "        optimizer.zero_grad()\n",
        "        \n",
        "        loss_train = loss_train.detach().cpu().item()\n",
        "        loss_keeper.append(loss_train)    \n",
        "    \n",
        "    model.eval()\n",
        "    output = model(x_test)\n",
        "    prediction = softmax(output)\n",
        "    prediction = torch.argmax(prediction,1).detach().cpu().numpy()\n",
        "    test_accuracy = metrics.accuracy_score(prediction, y_test_numpy)\n",
        "    loss_test = criterion(output, y_test)\n",
        "    loss_test = loss_test.detach().cpu().item()\n",
        "    train_loss_.append(np.mean(loss_keeper))\n",
        "    test_loss_.append(loss_test)\n",
        "    \n",
        "    if epoch % 2 == 0:\n",
        "        print('epoch : {}'.format(epoch))\n",
        "        print('目前 train loss : {:.2f}'.format(np.mean(loss_keeper)))\n",
        "        print('目前 test loss : {:.2f}'.format(loss_test))\n",
        "        print('目前 test accuracy : {:.2f}'.format(test_accuracy))"
      ],
      "execution_count": 27,
      "outputs": [
        {
          "output_type": "stream",
          "text": [
            "epoch : 0\n",
            "目前 train loss : 0.43\n",
            "目前 test loss : 0.33\n",
            "目前 test accuracy : 0.86\n",
            "epoch : 2\n",
            "目前 train loss : 0.30\n",
            "目前 test loss : 0.26\n",
            "目前 test accuracy : 0.92\n",
            "epoch : 4\n",
            "目前 train loss : 0.27\n",
            "目前 test loss : 0.25\n",
            "目前 test accuracy : 0.92\n",
            "epoch : 6\n",
            "目前 train loss : 0.23\n",
            "目前 test loss : 0.21\n",
            "目前 test accuracy : 0.92\n",
            "epoch : 8\n",
            "目前 train loss : 0.22\n",
            "目前 test loss : 0.22\n",
            "目前 test accuracy : 0.92\n",
            "epoch : 10\n",
            "目前 train loss : 0.21\n",
            "目前 test loss : 0.21\n",
            "目前 test accuracy : 0.92\n",
            "epoch : 12\n",
            "目前 train loss : 0.20\n",
            "目前 test loss : 0.20\n",
            "目前 test accuracy : 0.93\n",
            "epoch : 14\n",
            "目前 train loss : 0.18\n",
            "目前 test loss : 0.20\n",
            "目前 test accuracy : 0.93\n",
            "epoch : 16\n",
            "目前 train loss : 0.18\n",
            "目前 test loss : 0.20\n",
            "目前 test accuracy : 0.93\n",
            "epoch : 18\n",
            "目前 train loss : 0.19\n",
            "目前 test loss : 0.21\n",
            "目前 test accuracy : 0.92\n",
            "epoch : 20\n",
            "目前 train loss : 0.18\n",
            "目前 test loss : 0.21\n",
            "目前 test accuracy : 0.92\n",
            "epoch : 22\n",
            "目前 train loss : 0.16\n",
            "目前 test loss : 0.20\n",
            "目前 test accuracy : 0.93\n",
            "epoch : 24\n",
            "目前 train loss : 0.19\n",
            "目前 test loss : 0.20\n",
            "目前 test accuracy : 0.92\n",
            "epoch : 26\n",
            "目前 train loss : 0.17\n",
            "目前 test loss : 0.22\n",
            "目前 test accuracy : 0.91\n",
            "epoch : 28\n",
            "目前 train loss : 0.15\n",
            "目前 test loss : 0.22\n",
            "目前 test accuracy : 0.92\n",
            "epoch : 30\n",
            "目前 train loss : 0.17\n",
            "目前 test loss : 0.25\n",
            "目前 test accuracy : 0.91\n",
            "epoch : 32\n",
            "目前 train loss : 0.15\n",
            "目前 test loss : 0.23\n",
            "目前 test accuracy : 0.92\n",
            "epoch : 34\n",
            "目前 train loss : 0.15\n",
            "目前 test loss : 0.22\n",
            "目前 test accuracy : 0.92\n",
            "epoch : 36\n",
            "目前 train loss : 0.16\n",
            "目前 test loss : 0.22\n",
            "目前 test accuracy : 0.92\n",
            "epoch : 38\n",
            "目前 train loss : 0.15\n",
            "目前 test loss : 0.22\n",
            "目前 test accuracy : 0.91\n",
            "epoch : 40\n",
            "目前 train loss : 0.15\n",
            "目前 test loss : 0.22\n",
            "目前 test accuracy : 0.92\n",
            "epoch : 42\n",
            "目前 train loss : 0.17\n",
            "目前 test loss : 0.23\n",
            "目前 test accuracy : 0.92\n",
            "epoch : 44\n",
            "目前 train loss : 0.16\n",
            "目前 test loss : 0.21\n",
            "目前 test accuracy : 0.92\n",
            "epoch : 46\n",
            "目前 train loss : 0.19\n",
            "目前 test loss : 0.20\n",
            "目前 test accuracy : 0.92\n",
            "epoch : 48\n",
            "目前 train loss : 0.12\n",
            "目前 test loss : 0.20\n",
            "目前 test accuracy : 0.92\n"
          ],
          "name": "stdout"
        }
      ]
    },
    {
      "cell_type": "code",
      "metadata": {
        "colab": {
          "base_uri": "https://localhost:8080/"
        },
        "id": "C8EpCcUrrvV-",
        "outputId": "12222a81-9375-4558-d911-2a145195a9e3"
      },
      "source": [
        "print(classification_report(prediction, y_test_numpy))"
      ],
      "execution_count": 28,
      "outputs": [
        {
          "output_type": "stream",
          "text": [
            "              precision    recall  f1-score   support\n",
            "\n",
            "           0       0.96      0.94      0.95       599\n",
            "           1       0.64      0.73      0.68        86\n",
            "\n",
            "    accuracy                           0.92       685\n",
            "   macro avg       0.80      0.84      0.82       685\n",
            "weighted avg       0.92      0.92      0.92       685\n",
            "\n"
          ],
          "name": "stdout"
        }
      ]
    },
    {
      "cell_type": "code",
      "metadata": {
        "colab": {
          "base_uri": "https://localhost:8080/",
          "height": 267
        },
        "id": "s31GgrNDrvV_",
        "outputId": "53349ffe-ddc8-478c-c2b2-e82d663114f6"
      },
      "source": [
        "import matplotlib.pyplot as plt\n",
        "%matplotlib inline\n",
        "plt.plot(np.arange(1, len(test_loss_)+1), test_loss_)\n",
        "plt.show()"
      ],
      "execution_count": 29,
      "outputs": [
        {
          "output_type": "display_data",
          "data": {
            "image/png": "[encoded data removed]",
            "text/plain": [
              "<Figure size 432x288 with 1 Axes>"
            ]
          },
          "metadata": {
            "tags": [],
            "needs_background": "light"
          }
        }
      ]
    },
    {
      "cell_type": "code",
      "metadata": {
        "colab": {
          "base_uri": "https://localhost:8080/",
          "height": 265
        },
        "id": "NMCEIDwvrvV_",
        "outputId": "ea387827-6194-45bd-c4be-347379ed93c0"
      },
      "source": [
        "import matplotlib.pyplot as plt\n",
        "%matplotlib inline\n",
        "plt.plot(np.arange(1, len(train_loss_)+1), train_loss_)\n",
        "plt.show()"
      ],
      "execution_count": 30,
      "outputs": [
        {
          "output_type": "display_data",
          "data": {
            "image/png": "[encoded data removed]",
            "text/plain": [
              "<Figure size 432x288 with 1 Axes>"
            ]
          },
          "metadata": {
            "tags": [],
            "needs_background": "light"
          }
        }
      ]
    },
    {
      "cell_type": "markdown",
      "metadata": {
        "id": "7zo8oVWIrvWA"
      },
      "source": [
        "---"
      ]
    },
    {
      "cell_type": "markdown",
      "metadata": {
        "id": "VW2pQ2t1rvWA"
      },
      "source": [
        "### 儲存跟載入 weight"
      ]
    },
    {
      "cell_type": "markdown",
      "metadata": {
        "id": "iXF-ZNAmrvWA"
      },
      "source": [
        "### 儲存"
      ]
    },
    {
      "cell_type": "code",
      "metadata": {
        "id": "l3xDikEbrvWB"
      },
      "source": [
        "##假設我們已經訓練好了模型\n",
        "## 可以存成 .pth or .pt\n",
        "saving_location = './model_save.pth' # './' 代表目前所屬路徑\n",
        "torch.save({\n",
        "    'epoch':epoch,\n",
        "    'model_state_dict':model.state_dict(),\n",
        "    'loss':loss_test\n",
        "}, f = saving_location)"
      ],
      "execution_count": 32,
      "outputs": []
    },
    {
      "cell_type": "markdown",
      "metadata": {
        "id": "lgAXILlKrvWB"
      },
      "source": [
        "### 載入 "
      ]
    },
    {
      "cell_type": "code",
      "metadata": {
        "colab": {
          "base_uri": "https://localhost:8080/"
        },
        "id": "o8r13_xGrvWB",
        "outputId": "b13799fd-d91d-4469-93ff-6c079d1ddb94"
      },
      "source": [
        "model = Model(input_dimention=1500,output_classes=2).to(device)\n",
        "\n",
        "##載入\n",
        "checkpoint = torch.load(saving_location, map_location=lambda storage, loc: storage)\n",
        "model.load_state_dict(checkpoint['model_state_dict'])\n",
        "print('loading successfully...')\n",
        "print('\\n')\n",
        "\n",
        "model.eval()\n",
        "\n",
        "test_content = ['Congratulations! You Get a Free Handheld Organizer!']\n",
        "test_content = clean_content(test_content)\n",
        "test_content=cv.transform(test_content).toarray()\n",
        "test_content = torch.tensor(test_content, dtype=torch.float32).to(device)\n",
        "output = model(test_content)\n",
        "prediction = softmax(output)\n",
        "prediction = torch.argmax(prediction,1).detach().cpu().numpy()[0]\n",
        "\n",
        "if prediction == 1:\n",
        "    print('Is spam')\n",
        "else:\n",
        "    print('Not spam')"
      ],
      "execution_count": 33,
      "outputs": [
        {
          "output_type": "stream",
          "text": [
            "loading successfully...\n",
            "\n",
            "\n",
            "Is spam\n"
          ],
          "name": "stdout"
        }
      ]
    },
    {
      "cell_type": "code",
      "metadata": {
        "colab": {
          "base_uri": "https://localhost:8080/"
        },
        "id": "kcgKYDTc4jjL",
        "outputId": "76d89d2a-7d33-4d55-beed-769cc6792408"
      },
      "source": [
        "test_content = ['HI, SHI_RUN, HERE IS A PAPER FOR YOU']\n",
        "test_content = clean_content(test_content)\n",
        "test_content=cv.transform(test_content).toarray()\n",
        "test_content = torch.tensor(test_content, dtype=torch.float32).to(device)\n",
        "output = model(test_content)\n",
        "prediction = softmax(output)\n",
        "prediction = torch.argmax(prediction,1).detach().cpu().numpy()[0]\n",
        "\n",
        "if prediction == 1:\n",
        "    print('Is spam')\n",
        "else:\n",
        "    print('Not spam')"
      ],
      "execution_count": 34,
      "outputs": [
        {
          "output_type": "stream",
          "text": [
            "Not spam\n"
          ],
          "name": "stdout"
        }
      ]
    },
    {
      "cell_type": "code",
      "metadata": {
        "id": "_5Z5JNkK4xXe"
      },
      "source": [
        ""
      ],
      "execution_count": null,
      "outputs": []
    }
  ]
}