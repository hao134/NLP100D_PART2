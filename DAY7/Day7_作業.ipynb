{
  "nbformat": 4,
  "nbformat_minor": 0,
  "metadata": {
    "kernelspec": {
      "display_name": "Python 3",
      "language": "python",
      "name": "python3"
    },
    "language_info": {
      "codemirror_mode": {
        "name": "ipython",
        "version": 3
      },
      "file_extension": ".py",
      "mimetype": "text/x-python",
      "name": "python",
      "nbconvert_exporter": "python",
      "pygments_lexer": "ipython3",
      "version": "3.7.4"
    },
    "colab": {
      "name": "Day7 - 作業.ipynb",
      "provenance": []
    }
  },
  "cells": [
    {
      "cell_type": "markdown",
      "metadata": {
        "id": "LNThZr1r1f99"
      },
      "source": [
        "## 第一部分：了解 nn.Module的基本操作"
      ]
    },
    {
      "cell_type": "code",
      "metadata": {
        "id": "aaNKTyDM1f-A"
      },
      "source": [
        "import torch\n",
        "import torch.nn as nn\n",
        "import torchvision.models as models\n",
        "import torch.nn.functional as F\n",
        "import numpy as np"
      ],
      "execution_count": null,
      "outputs": []
    },
    {
      "cell_type": "code",
      "metadata": {
        "id": "AXG4lie51f-A"
      },
      "source": [
        "model = models.resnet18()"
      ],
      "execution_count": null,
      "outputs": []
    },
    {
      "cell_type": "markdown",
      "metadata": {
        "id": "Q5N0GaY51f-B"
      },
      "source": [
        "### 打印出 model底下所有 parameters 的 name 以及對應的 shape "
      ]
    },
    {
      "cell_type": "code",
      "metadata": {
        "colab": {
          "base_uri": "https://localhost:8080/"
        },
        "id": "4VhXB1Nn1f-B",
        "outputId": "c6f7466e-170c-47d4-88a8-49208686f0cd"
      },
      "source": [
        "for name, param in model.named_parameters():\n",
        "  print(name, param.size())"
      ],
      "execution_count": 14,
      "outputs": [
        {
          "output_type": "stream",
          "text": [
            "sequential.0.weight torch.Size([10, 12])\n",
            "sequential.0.bias torch.Size([10])\n",
            "sequential.1.weight torch.Size([10])\n",
            "sequential.1.bias torch.Size([10])\n",
            "repeat_linear.0.0.weight torch.Size([10, 10])\n",
            "repeat_linear.0.0.bias torch.Size([10])\n",
            "repeat_linear.0.1.weight torch.Size([10])\n",
            "repeat_linear.0.1.bias torch.Size([10])\n",
            "repeat_linear.1.0.weight torch.Size([10, 10])\n",
            "repeat_linear.1.0.bias torch.Size([10])\n",
            "repeat_linear.1.1.weight torch.Size([10])\n",
            "repeat_linear.1.1.bias torch.Size([10])\n",
            "repeat_linear.2.0.weight torch.Size([10, 10])\n",
            "repeat_linear.2.0.bias torch.Size([10])\n",
            "repeat_linear.2.1.weight torch.Size([10])\n",
            "repeat_linear.2.1.bias torch.Size([10])\n",
            "repeat_linear.3.0.weight torch.Size([10, 10])\n",
            "repeat_linear.3.0.bias torch.Size([10])\n",
            "repeat_linear.3.1.weight torch.Size([10])\n",
            "repeat_linear.3.1.bias torch.Size([10])\n",
            "repeat_linear.4.0.weight torch.Size([10, 10])\n",
            "repeat_linear.4.0.bias torch.Size([10])\n",
            "repeat_linear.4.1.weight torch.Size([10])\n",
            "repeat_linear.4.1.bias torch.Size([10])\n",
            "repeat_linear.5.0.weight torch.Size([10, 10])\n",
            "repeat_linear.5.0.bias torch.Size([10])\n",
            "repeat_linear.5.1.weight torch.Size([10])\n",
            "repeat_linear.5.1.bias torch.Size([10])\n",
            "repeat_linear.6.0.weight torch.Size([10, 10])\n",
            "repeat_linear.6.0.bias torch.Size([10])\n",
            "repeat_linear.6.1.weight torch.Size([10])\n",
            "repeat_linear.6.1.bias torch.Size([10])\n",
            "repeat_linear.7.0.weight torch.Size([10, 10])\n",
            "repeat_linear.7.0.bias torch.Size([10])\n",
            "repeat_linear.7.1.weight torch.Size([10])\n",
            "repeat_linear.7.1.bias torch.Size([10])\n",
            "repeat_linear.8.0.weight torch.Size([10, 10])\n",
            "repeat_linear.8.0.bias torch.Size([10])\n",
            "repeat_linear.8.1.weight torch.Size([10])\n",
            "repeat_linear.8.1.bias torch.Size([10])\n",
            "repeat_linear.9.0.weight torch.Size([10, 10])\n",
            "repeat_linear.9.0.bias torch.Size([10])\n",
            "repeat_linear.9.1.weight torch.Size([10])\n",
            "repeat_linear.9.1.bias torch.Size([10])\n",
            "output.weight torch.Size([3, 10])\n",
            "output.bias torch.Size([3])\n"
          ],
          "name": "stdout"
        }
      ]
    },
    {
      "cell_type": "markdown",
      "metadata": {
        "id": "kvX0mnHn1f-C"
      },
      "source": [
        "### 為了使 forward propagation 加速 並降低 memory 使用量，請將所有 parameters 的requires_grad 關閉，關閉之後執行  forward propagation"
      ]
    },
    {
      "cell_type": "code",
      "metadata": {
        "id": "m6UzTEYN1f-D"
      },
      "source": [
        "input_ = torch.randn(1, 3, 128, 128)"
      ],
      "execution_count": null,
      "outputs": []
    },
    {
      "cell_type": "code",
      "metadata": {
        "id": "odbE7Qau1f-E"
      },
      "source": [
        "for param in model.parameters():\n",
        "    param.requires_grad = False"
      ],
      "execution_count": null,
      "outputs": []
    },
    {
      "cell_type": "code",
      "metadata": {
        "colab": {
          "base_uri": "https://localhost:8080/"
        },
        "id": "yjIi1-zg1f-E",
        "outputId": "cafb8181-b2f9-41e8-be29-3c86f7ac7cea"
      },
      "source": [
        "output = model(input_)\n",
        "print(output.shape)"
      ],
      "execution_count": null,
      "outputs": [
        {
          "output_type": "stream",
          "text": [
            "torch.Size([1, 1000])\n"
          ],
          "name": "stdout"
        }
      ]
    },
    {
      "cell_type": "markdown",
      "metadata": {
        "id": "6yf7zHjW1f-F"
      },
      "source": [
        "## 第二部分：依照指令，以較簡潔的方式搭建出模型"
      ]
    },
    {
      "cell_type": "markdown",
      "metadata": {
        "id": "svIsW_J-1f-G"
      },
      "source": [
        "* input_shape = torch.Size([10, 12])\n",
        "* 先經過一層 nn.Linear(12, 10)\n",
        "* 經過10層 nn.Linear(10, 10)\n",
        "* 最後經過 nn.Linear(10, 3) 輸出\n",
        "* 每一個 nn.Linear過完後要先經過 nn.BatchNorm1d 才能到下一層，輸出層不用\n"
      ]
    },
    {
      "cell_type": "code",
      "metadata": {
        "id": "1jA2q8Uk1f-G"
      },
      "source": [
        "input_ = torch.randn(10,12)\n",
        "## 示範\n",
        "Linear = nn.Linear(12,10)\n",
        "BN = nn.BatchNorm1d(10)"
      ],
      "execution_count": null,
      "outputs": []
    },
    {
      "cell_type": "code",
      "metadata": {
        "id": "TquYccuS1f-H"
      },
      "source": [
        "class Model(nn.Module):\n",
        "    def __init__(self):\n",
        "        super(Model, self).__init__()\n",
        "        self.sequential = nn.Sequential(\n",
        "            nn.Linear(12, 10), \n",
        "            nn.BatchNorm1d(10))\n",
        "        self.repeat_linear = nn.ModuleList([\n",
        "                                            nn.Sequential(nn.Linear(10, 10), \n",
        "                                                          nn.BatchNorm1d(10))\n",
        "                                             for _ in range(10)\n",
        "                                                          ])\n",
        "        self.output = nn.Linear(10, 3)\n",
        "\n",
        "    def forward(self, x):\n",
        "        x = self.sequential(x)\n",
        "        for module in self.repeat_linear:\n",
        "          x = module(x)\n",
        "        x = self.output(x)\n",
        "        return x"
      ],
      "execution_count": 15,
      "outputs": []
    },
    {
      "cell_type": "code",
      "metadata": {
        "id": "zowFegDR1f-H"
      },
      "source": [
        "model = Model()"
      ],
      "execution_count": 16,
      "outputs": []
    },
    {
      "cell_type": "code",
      "metadata": {
        "colab": {
          "base_uri": "https://localhost:8080/"
        },
        "id": "4IvI6bIQ1f-H",
        "outputId": "973080bc-0b1a-4c2b-e72a-c2d4093613b8"
      },
      "source": [
        "model"
      ],
      "execution_count": 17,
      "outputs": [
        {
          "output_type": "execute_result",
          "data": {
            "text/plain": [
              "Model(\n",
              "  (sequential): Sequential(\n",
              "    (0): Linear(in_features=12, out_features=10, bias=True)\n",
              "    (1): BatchNorm1d(10, eps=1e-05, momentum=0.1, affine=True, track_running_stats=True)\n",
              "  )\n",
              "  (repeat_linear): ModuleList(\n",
              "    (0): Sequential(\n",
              "      (0): Linear(in_features=10, out_features=10, bias=True)\n",
              "      (1): BatchNorm1d(10, eps=1e-05, momentum=0.1, affine=True, track_running_stats=True)\n",
              "    )\n",
              "    (1): Sequential(\n",
              "      (0): Linear(in_features=10, out_features=10, bias=True)\n",
              "      (1): BatchNorm1d(10, eps=1e-05, momentum=0.1, affine=True, track_running_stats=True)\n",
              "    )\n",
              "    (2): Sequential(\n",
              "      (0): Linear(in_features=10, out_features=10, bias=True)\n",
              "      (1): BatchNorm1d(10, eps=1e-05, momentum=0.1, affine=True, track_running_stats=True)\n",
              "    )\n",
              "    (3): Sequential(\n",
              "      (0): Linear(in_features=10, out_features=10, bias=True)\n",
              "      (1): BatchNorm1d(10, eps=1e-05, momentum=0.1, affine=True, track_running_stats=True)\n",
              "    )\n",
              "    (4): Sequential(\n",
              "      (0): Linear(in_features=10, out_features=10, bias=True)\n",
              "      (1): BatchNorm1d(10, eps=1e-05, momentum=0.1, affine=True, track_running_stats=True)\n",
              "    )\n",
              "    (5): Sequential(\n",
              "      (0): Linear(in_features=10, out_features=10, bias=True)\n",
              "      (1): BatchNorm1d(10, eps=1e-05, momentum=0.1, affine=True, track_running_stats=True)\n",
              "    )\n",
              "    (6): Sequential(\n",
              "      (0): Linear(in_features=10, out_features=10, bias=True)\n",
              "      (1): BatchNorm1d(10, eps=1e-05, momentum=0.1, affine=True, track_running_stats=True)\n",
              "    )\n",
              "    (7): Sequential(\n",
              "      (0): Linear(in_features=10, out_features=10, bias=True)\n",
              "      (1): BatchNorm1d(10, eps=1e-05, momentum=0.1, affine=True, track_running_stats=True)\n",
              "    )\n",
              "    (8): Sequential(\n",
              "      (0): Linear(in_features=10, out_features=10, bias=True)\n",
              "      (1): BatchNorm1d(10, eps=1e-05, momentum=0.1, affine=True, track_running_stats=True)\n",
              "    )\n",
              "    (9): Sequential(\n",
              "      (0): Linear(in_features=10, out_features=10, bias=True)\n",
              "      (1): BatchNorm1d(10, eps=1e-05, momentum=0.1, affine=True, track_running_stats=True)\n",
              "    )\n",
              "  )\n",
              "  (output): Linear(in_features=10, out_features=3, bias=True)\n",
              ")"
            ]
          },
          "metadata": {
            "tags": []
          },
          "execution_count": 17
        }
      ]
    },
    {
      "cell_type": "code",
      "metadata": {
        "id": "GG7N9eY_1f-I"
      },
      "source": [
        "input_ = torch.randn(10,12)\n",
        "outupt = model(input_)"
      ],
      "execution_count": 18,
      "outputs": []
    },
    {
      "cell_type": "code",
      "metadata": {
        "colab": {
          "base_uri": "https://localhost:8080/"
        },
        "id": "t5QG7WO21f-J",
        "outputId": "10944c97-b74c-4d2f-8f48-790276caf6b2"
      },
      "source": [
        "outupt"
      ],
      "execution_count": 19,
      "outputs": [
        {
          "output_type": "execute_result",
          "data": {
            "text/plain": [
              "tensor([[ 0.3004,  1.0703,  0.3561],\n",
              "        [ 0.3464,  0.6323, -0.0438],\n",
              "        [-0.5464,  0.4052,  0.0112],\n",
              "        [ 0.9146, -1.1665, -0.0643],\n",
              "        [-1.2983,  0.6350, -0.0041],\n",
              "        [-0.1500,  0.7993, -0.5536],\n",
              "        [ 0.4797,  0.2540,  0.4558],\n",
              "        [-0.3438,  0.7136,  0.5538],\n",
              "        [ 0.8955, -0.3057, -0.5703],\n",
              "        [ 0.7662, -0.3459,  0.8192]], grad_fn=<AddmmBackward>)"
            ]
          },
          "metadata": {
            "tags": []
          },
          "execution_count": 19
        }
      ]
    },
    {
      "cell_type": "code",
      "metadata": {
        "id": "BZu2DvQY1f-K"
      },
      "source": [
        ""
      ],
      "execution_count": null,
      "outputs": []
    }
  ]
}