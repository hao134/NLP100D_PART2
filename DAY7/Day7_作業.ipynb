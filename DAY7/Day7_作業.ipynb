{
  "nbformat": 4,
  "nbformat_minor": 0,
  "metadata": {
    "kernelspec": {
      "display_name": "Python 3",
      "language": "python",
      "name": "python3"
    },
    "language_info": {
      "codemirror_mode": {
        "name": "ipython",
        "version": 3
      },
      "file_extension": ".py",
      "mimetype": "text/x-python",
      "name": "python",
      "nbconvert_exporter": "python",
      "pygments_lexer": "ipython3",
      "version": "3.7.4"
    },
    "colab": {
      "name": "Day7 - 作業.ipynb",
      "provenance": []
    }
  },
  "cells": [
    {
      "cell_type": "markdown",
      "metadata": {
        "id": "LNThZr1r1f99"
      },
      "source": [
        "## 第一部分：了解 nn.Module的基本操作"
      ]
    },
    {
      "cell_type": "code",
      "metadata": {
        "id": "aaNKTyDM1f-A"
      },
      "source": [
        "import torch\n",
        "import torch.nn as nn\n",
        "import torchvision.models as models\n",
        "import torch.nn.functional as F\n",
        "import numpy as np"
      ],
      "execution_count": 1,
      "outputs": []
    },
    {
      "cell_type": "code",
      "metadata": {
        "id": "AXG4lie51f-A"
      },
      "source": [
        "model = models.resnet18()"
      ],
      "execution_count": 2,
      "outputs": []
    },
    {
      "cell_type": "markdown",
      "metadata": {
        "id": "Q5N0GaY51f-B"
      },
      "source": [
        "### 打印出 model底下所有 parameters 的 name 以及對應的 shape "
      ]
    },
    {
      "cell_type": "code",
      "metadata": {
        "colab": {
          "base_uri": "https://localhost:8080/"
        },
        "id": "4VhXB1Nn1f-B",
        "outputId": "bc45f1f5-926f-4889-efc3-efedc7bbbbf7"
      },
      "source": [
        "for name, param in model.named_parameters():\n",
        "  print(name, param.requires_grad)"
      ],
      "execution_count": 4,
      "outputs": [
        {
          "output_type": "stream",
          "text": [
            "conv1.weight True\n",
            "bn1.weight True\n",
            "bn1.bias True\n",
            "layer1.0.conv1.weight True\n",
            "layer1.0.bn1.weight True\n",
            "layer1.0.bn1.bias True\n",
            "layer1.0.conv2.weight True\n",
            "layer1.0.bn2.weight True\n",
            "layer1.0.bn2.bias True\n",
            "layer1.1.conv1.weight True\n",
            "layer1.1.bn1.weight True\n",
            "layer1.1.bn1.bias True\n",
            "layer1.1.conv2.weight True\n",
            "layer1.1.bn2.weight True\n",
            "layer1.1.bn2.bias True\n",
            "layer2.0.conv1.weight True\n",
            "layer2.0.bn1.weight True\n",
            "layer2.0.bn1.bias True\n",
            "layer2.0.conv2.weight True\n",
            "layer2.0.bn2.weight True\n",
            "layer2.0.bn2.bias True\n",
            "layer2.0.downsample.0.weight True\n",
            "layer2.0.downsample.1.weight True\n",
            "layer2.0.downsample.1.bias True\n",
            "layer2.1.conv1.weight True\n",
            "layer2.1.bn1.weight True\n",
            "layer2.1.bn1.bias True\n",
            "layer2.1.conv2.weight True\n",
            "layer2.1.bn2.weight True\n",
            "layer2.1.bn2.bias True\n",
            "layer3.0.conv1.weight True\n",
            "layer3.0.bn1.weight True\n",
            "layer3.0.bn1.bias True\n",
            "layer3.0.conv2.weight True\n",
            "layer3.0.bn2.weight True\n",
            "layer3.0.bn2.bias True\n",
            "layer3.0.downsample.0.weight True\n",
            "layer3.0.downsample.1.weight True\n",
            "layer3.0.downsample.1.bias True\n",
            "layer3.1.conv1.weight True\n",
            "layer3.1.bn1.weight True\n",
            "layer3.1.bn1.bias True\n",
            "layer3.1.conv2.weight True\n",
            "layer3.1.bn2.weight True\n",
            "layer3.1.bn2.bias True\n",
            "layer4.0.conv1.weight True\n",
            "layer4.0.bn1.weight True\n",
            "layer4.0.bn1.bias True\n",
            "layer4.0.conv2.weight True\n",
            "layer4.0.bn2.weight True\n",
            "layer4.0.bn2.bias True\n",
            "layer4.0.downsample.0.weight True\n",
            "layer4.0.downsample.1.weight True\n",
            "layer4.0.downsample.1.bias True\n",
            "layer4.1.conv1.weight True\n",
            "layer4.1.bn1.weight True\n",
            "layer4.1.bn1.bias True\n",
            "layer4.1.conv2.weight True\n",
            "layer4.1.bn2.weight True\n",
            "layer4.1.bn2.bias True\n",
            "fc.weight True\n",
            "fc.bias True\n"
          ],
          "name": "stdout"
        }
      ]
    },
    {
      "cell_type": "markdown",
      "metadata": {
        "id": "kvX0mnHn1f-C"
      },
      "source": [
        "### 為了使 forward propagation 加速 並降低 memory 使用量，請將所有 parameters 的requires_grad 關閉，關閉之後執行  forward propagation"
      ]
    },
    {
      "cell_type": "code",
      "metadata": {
        "id": "m6UzTEYN1f-D"
      },
      "source": [
        "input_ = torch.randn(1, 3, 128, 128)"
      ],
      "execution_count": 5,
      "outputs": []
    },
    {
      "cell_type": "code",
      "metadata": {
        "id": "odbE7Qau1f-E"
      },
      "source": [
        "for param in model.parameters():\n",
        "    param.requires_grad = False"
      ],
      "execution_count": 6,
      "outputs": []
    },
    {
      "cell_type": "code",
      "metadata": {
        "colab": {
          "base_uri": "https://localhost:8080/"
        },
        "id": "yjIi1-zg1f-E",
        "outputId": "cafb8181-b2f9-41e8-be29-3c86f7ac7cea"
      },
      "source": [
        "output = model(input_)\n",
        "print(output.shape)"
      ],
      "execution_count": 7,
      "outputs": [
        {
          "output_type": "stream",
          "text": [
            "torch.Size([1, 1000])\n"
          ],
          "name": "stdout"
        }
      ]
    },
    {
      "cell_type": "markdown",
      "metadata": {
        "id": "6yf7zHjW1f-F"
      },
      "source": [
        "## 第二部分：依照指令，以較簡潔的方式搭建出模型"
      ]
    },
    {
      "cell_type": "markdown",
      "metadata": {
        "id": "svIsW_J-1f-G"
      },
      "source": [
        "* input_shape = torch.Size([10, 12])\n",
        "* 先經過一層 nn.Linear(12, 10)\n",
        "* 經過10層 nn.Linear(10, 10)\n",
        "* 最後經過 nn.Linear(10, 3) 輸出\n",
        "* 每一個 nn.Linear過完後要先經過 nn.BatchNorm1d 才能到下一層，輸出層不用\n"
      ]
    },
    {
      "cell_type": "code",
      "metadata": {
        "id": "1jA2q8Uk1f-G"
      },
      "source": [
        "input_ = torch.randn(10,12)\n",
        "## 示範\n",
        "Linear = nn.Linear(12,10)\n",
        "BN = nn.BatchNorm1d(10)"
      ],
      "execution_count": 8,
      "outputs": []
    },
    {
      "cell_type": "code",
      "metadata": {
        "id": "TquYccuS1f-H"
      },
      "source": [
        "class Model(nn.Module):\n",
        "    def __init__(self):\n",
        "        super(Model, self).__init__()\n",
        "        self.sequential = nn.Sequential(nn.Linear(12, 10), nn.BatchNorm1d(10))\n",
        "        self.repeat_linear = nn.ModuleList([nn.Sequential(nn.Linear(10, 10), nn.BatchNorm1d(10)) for _ in range(10)])\n",
        "        self.output = nn.Linear(10, 3)\n",
        "\n",
        "    def forward(self, x):\n",
        "        x = self.sequential(x)\n",
        "        for module in self.repeat_linear:\n",
        "          x = module(x)\n",
        "        x = self.output(x)\n",
        "        return x"
      ],
      "execution_count": 9,
      "outputs": []
    },
    {
      "cell_type": "code",
      "metadata": {
        "id": "zowFegDR1f-H"
      },
      "source": [
        "model = Model()"
      ],
      "execution_count": 10,
      "outputs": []
    },
    {
      "cell_type": "code",
      "metadata": {
        "colab": {
          "base_uri": "https://localhost:8080/"
        },
        "id": "4IvI6bIQ1f-H",
        "outputId": "719537be-b093-42aa-96e9-a515953ab2f0"
      },
      "source": [
        "model"
      ],
      "execution_count": 11,
      "outputs": [
        {
          "output_type": "execute_result",
          "data": {
            "text/plain": [
              "Model(\n",
              "  (sequential): Sequential(\n",
              "    (0): Linear(in_features=12, out_features=10, bias=True)\n",
              "    (1): BatchNorm1d(10, eps=1e-05, momentum=0.1, affine=True, track_running_stats=True)\n",
              "  )\n",
              "  (repeat_linear): ModuleList(\n",
              "    (0): Sequential(\n",
              "      (0): Linear(in_features=10, out_features=10, bias=True)\n",
              "      (1): BatchNorm1d(10, eps=1e-05, momentum=0.1, affine=True, track_running_stats=True)\n",
              "    )\n",
              "    (1): Sequential(\n",
              "      (0): Linear(in_features=10, out_features=10, bias=True)\n",
              "      (1): BatchNorm1d(10, eps=1e-05, momentum=0.1, affine=True, track_running_stats=True)\n",
              "    )\n",
              "    (2): Sequential(\n",
              "      (0): Linear(in_features=10, out_features=10, bias=True)\n",
              "      (1): BatchNorm1d(10, eps=1e-05, momentum=0.1, affine=True, track_running_stats=True)\n",
              "    )\n",
              "    (3): Sequential(\n",
              "      (0): Linear(in_features=10, out_features=10, bias=True)\n",
              "      (1): BatchNorm1d(10, eps=1e-05, momentum=0.1, affine=True, track_running_stats=True)\n",
              "    )\n",
              "    (4): Sequential(\n",
              "      (0): Linear(in_features=10, out_features=10, bias=True)\n",
              "      (1): BatchNorm1d(10, eps=1e-05, momentum=0.1, affine=True, track_running_stats=True)\n",
              "    )\n",
              "    (5): Sequential(\n",
              "      (0): Linear(in_features=10, out_features=10, bias=True)\n",
              "      (1): BatchNorm1d(10, eps=1e-05, momentum=0.1, affine=True, track_running_stats=True)\n",
              "    )\n",
              "    (6): Sequential(\n",
              "      (0): Linear(in_features=10, out_features=10, bias=True)\n",
              "      (1): BatchNorm1d(10, eps=1e-05, momentum=0.1, affine=True, track_running_stats=True)\n",
              "    )\n",
              "    (7): Sequential(\n",
              "      (0): Linear(in_features=10, out_features=10, bias=True)\n",
              "      (1): BatchNorm1d(10, eps=1e-05, momentum=0.1, affine=True, track_running_stats=True)\n",
              "    )\n",
              "    (8): Sequential(\n",
              "      (0): Linear(in_features=10, out_features=10, bias=True)\n",
              "      (1): BatchNorm1d(10, eps=1e-05, momentum=0.1, affine=True, track_running_stats=True)\n",
              "    )\n",
              "    (9): Sequential(\n",
              "      (0): Linear(in_features=10, out_features=10, bias=True)\n",
              "      (1): BatchNorm1d(10, eps=1e-05, momentum=0.1, affine=True, track_running_stats=True)\n",
              "    )\n",
              "  )\n",
              "  (output): Linear(in_features=10, out_features=3, bias=True)\n",
              ")"
            ]
          },
          "metadata": {
            "tags": []
          },
          "execution_count": 11
        }
      ]
    },
    {
      "cell_type": "code",
      "metadata": {
        "id": "GG7N9eY_1f-I"
      },
      "source": [
        "input_ = torch.randn(10,12)\n",
        "outupt = model(input_)"
      ],
      "execution_count": 12,
      "outputs": []
    },
    {
      "cell_type": "code",
      "metadata": {
        "colab": {
          "base_uri": "https://localhost:8080/"
        },
        "id": "t5QG7WO21f-J",
        "outputId": "1ec5a87a-44c6-4899-8a75-30d0e28299f0"
      },
      "source": [
        "outupt"
      ],
      "execution_count": 13,
      "outputs": [
        {
          "output_type": "execute_result",
          "data": {
            "text/plain": [
              "tensor([[ 0.3766, -0.3181,  0.7898],\n",
              "        [-0.4829,  0.4684, -0.1171],\n",
              "        [-0.1525, -0.5615,  0.5748],\n",
              "        [-0.5022, -0.7677,  0.4779],\n",
              "        [-0.5830, -0.6315,  0.5030],\n",
              "        [ 1.0729,  1.7739, -0.4464],\n",
              "        [-0.6568,  0.5007, -0.1590],\n",
              "        [ 0.3088, -0.3101,  0.6235],\n",
              "        [ 0.2759,  1.0462, -0.2287],\n",
              "        [ 0.8880,  0.6110,  0.2156]], grad_fn=<AddmmBackward>)"
            ]
          },
          "metadata": {
            "tags": []
          },
          "execution_count": 13
        }
      ]
    },
    {
      "cell_type": "code",
      "metadata": {
        "id": "BZu2DvQY1f-K"
      },
      "source": [
        ""
      ],
      "execution_count": null,
      "outputs": []
    }
  ]
}