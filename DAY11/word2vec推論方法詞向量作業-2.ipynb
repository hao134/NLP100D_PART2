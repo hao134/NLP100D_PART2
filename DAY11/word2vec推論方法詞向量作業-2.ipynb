{
  "nbformat": 4,
  "nbformat_minor": 0,
  "metadata": {
    "kernelspec": {
      "display_name": "cupoy_env",
      "language": "python",
      "name": "cupoy_env"
    },
    "language_info": {
      "codemirror_mode": {
        "name": "ipython",
        "version": 3
      },
      "file_extension": ".py",
      "mimetype": "text/x-python",
      "name": "python",
      "nbconvert_exporter": "python",
      "pygments_lexer": "ipython3",
      "version": "3.7.3"
    },
    "colab": {
      "name": "word2vec推論方法詞向量作業.ipynb",
      "provenance": []
    }
  },
  "cells": [
    {
      "cell_type": "markdown",
      "metadata": {
        "id": "oztz7XEJVYM6"
      },
      "source": [
        "### 作業目的: 了解為何需要推論方法的詞向量及其優缺點\n",
        "\n",
        "本次作業主要為思考題，請學員根據題目思考適合的回答"
      ]
    },
    {
      "cell_type": "markdown",
      "metadata": {
        "id": "Xg-ElAkpVYNO"
      },
      "source": [
        "### Q1:\n",
        "請學員思考為何不直接使用one-hot encoding的方式建立詞向量，而要有其他計數方法與推論方法的詞向量產生方式？"
      ]
    },
    {
      "cell_type": "markdown",
      "metadata": {
        "id": "9GLe70g9VYNQ"
      },
      "source": [
        "### Answer:\n",
        "one-hot encoding 對於詞意相近和相遠的詞沒辦法區分距離感，因此我們要考慮其他方法"
      ]
    },
    {
      "cell_type": "markdown",
      "metadata": {
        "id": "rFFYIn56VYNR"
      },
      "source": [
        "### Q2:\n",
        "相較於計數手法的詞向量(ex: one-hot, 共現矩陣, PPMI)，word2vec的方法有何優點？"
      ]
    },
    {
      "cell_type": "markdown",
      "metadata": {
        "id": "o36x6DCIVYNS"
      },
      "source": [
        "### Answer:\n",
        "word2vec會考慮上下文，這是技術方法的詞向量無法做到的\n"
      ]
    },
    {
      "cell_type": "code",
      "metadata": {
        "id": "WK9kTcPUVYNT"
      },
      "source": [
        ""
      ],
      "execution_count": null,
      "outputs": []
    }
  ]
}