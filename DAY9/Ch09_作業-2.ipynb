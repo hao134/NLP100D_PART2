{
  "nbformat": 4,
  "nbformat_minor": 0,
  "metadata": {
    "kernelspec": {
      "display_name": "Python 3",
      "language": "python",
      "name": "python3"
    },
    "language_info": {
      "codemirror_mode": {
        "name": "ipython",
        "version": 3
      },
      "file_extension": ".py",
      "mimetype": "text/x-python",
      "name": "python",
      "nbconvert_exporter": "python",
      "pygments_lexer": "ipython3",
      "version": "3.7.4"
    },
    "colab": {
      "name": "Ch09_作業.ipynb",
      "provenance": []
    }
  },
  "cells": [
    {
      "cell_type": "code",
      "metadata": {
        "id": "pwTjmYfdhGBQ"
      },
      "source": [
        "import torch\n",
        "import torch.nn as nn\n",
        "import torchvision.models as models\n",
        "import torch.nn.functional as F\n",
        "import numpy as np\n",
        "import torch.optim as optim\n"
      ],
      "execution_count": 1,
      "outputs": []
    },
    {
      "cell_type": "markdown",
      "metadata": {
        "id": "1FckCyCJhGBX"
      },
      "source": [
        "### 搭建模型"
      ]
    },
    {
      "cell_type": "code",
      "metadata": {
        "id": "q8vUzCzNhGBc"
      },
      "source": [
        "class LinearBNAC(nn.Module):\n",
        "    def __init__(self, in_channels, out_channels, bias=True, dropout=0.3, is_output=False):\n",
        "        super(LinearBNAC, self).__init__()\n",
        "        if is_output and out_channels==1:\n",
        "            self.linear = nn.Sequential(\n",
        "                nn.Linear(in_channels, out_channels, bias=bias),\n",
        "                nn.Sigmoid()\n",
        "            )\n",
        "        elif is_output:\n",
        "            self.linear = nn.Sequential(\n",
        "                nn.Linear(in_channels, out_channels, bias=bias),\n",
        "                nn.Softmax(dim=1)\n",
        "            )   \n",
        "        else:\n",
        "            self.linear = nn.Sequential(\n",
        "                nn.Linear(in_channels, out_channels, bias=bias),\n",
        "                nn.Dropout(dropout),\n",
        "                nn.BatchNorm1d(out_channels),\n",
        "                nn.LeakyReLU(inplace=True)\n",
        "            )\n",
        "            \n",
        "    def forward(self, x):\n",
        "        out=self.linear(x)\n",
        "        return out"
      ],
      "execution_count": 2,
      "outputs": []
    },
    {
      "cell_type": "code",
      "metadata": {
        "id": "fUl_zKI6hGBe"
      },
      "source": [
        "class Model(nn.Module):\n",
        "    def __init__(self, input_dimention, output_classes=1):\n",
        "        super(Model, self).__init__()\n",
        "        self.layer1 = LinearBNAC(input_dimention, 128)\n",
        "        self.layer2 = nn.Linear(128, 64)\n",
        "        self.layer3 = nn.Linear(64, 32)\n",
        "        self.output = LinearBNAC(32, output_classes, is_output=True)\n",
        "    def forward(self, x):\n",
        "        x = self.layer1(x)\n",
        "        x = self.layer2(x)\n",
        "        x = self.layer3(x)\n",
        "        x = self.output(x)\n",
        "        return x \n",
        "        "
      ],
      "execution_count": 3,
      "outputs": []
    },
    {
      "cell_type": "markdown",
      "metadata": {
        "id": "fX-CDAi4hGBg"
      },
      "source": [
        "### 準備輸入資料、優化器、標籤資料、模型輸出"
      ]
    },
    {
      "cell_type": "code",
      "metadata": {
        "id": "9pBN32mmhGBj"
      },
      "source": [
        "model = Model(input_dimention=256,output_classes=10)\n",
        "optimizer = optim.Adam(params=model.parameters(), lr = 1e-4, weight_decay= 1e-3)"
      ],
      "execution_count": 36,
      "outputs": []
    },
    {
      "cell_type": "code",
      "metadata": {
        "id": "lLD1nkD6hGBp"
      },
      "source": [
        "batch_size = 4\n",
        "input_features = 256\n",
        "dummy_input = torch.randn(batch_size, input_features,)\n",
        "\n",
        "#target = torch.empty(4, dtype=torch.float).random_(10)\n",
        "target = torch.tensor([9., 5., 4., 4.], dtype=torch.long)"
      ],
      "execution_count": 37,
      "outputs": []
    },
    {
      "cell_type": "code",
      "metadata": {
        "colab": {
          "base_uri": "https://localhost:8080/"
        },
        "id": "5yHpsNjdhGBr",
        "outputId": "1ec1c569-eb39-46e8-9603-83a83ea7bc86"
      },
      "source": [
        "output = model(dummy_input)\n",
        "print(output)"
      ],
      "execution_count": 38,
      "outputs": [
        {
          "output_type": "stream",
          "text": [
            "tensor([[0.1285, 0.0939, 0.1215, 0.0599, 0.1146, 0.1136, 0.0876, 0.0998, 0.0989,\n",
            "         0.0816],\n",
            "        [0.1029, 0.0842, 0.0935, 0.0870, 0.1149, 0.0981, 0.1334, 0.0866, 0.1152,\n",
            "         0.0840],\n",
            "        [0.1337, 0.1099, 0.0777, 0.0711, 0.1222, 0.0849, 0.1056, 0.1100, 0.0922,\n",
            "         0.0925],\n",
            "        [0.1239, 0.0786, 0.0795, 0.0841, 0.1494, 0.0923, 0.1353, 0.0732, 0.0933,\n",
            "         0.0904]], grad_fn=<SoftmaxBackward>)\n"
          ],
          "name": "stdout"
        }
      ]
    },
    {
      "cell_type": "markdown",
      "metadata": {
        "id": "jcxaxMMThGBs"
      },
      "source": [
        "### 計算 CrossEntropy Loss\n",
        "* 請注意哪一個 Loss最適合：我們已經使用 softmax\n",
        "* 因為我們有使用dropout，並隨機產生dummy_input，所以各為學員得到的值會與解答不同，然而步驟原理需要相同"
      ]
    },
    {
      "cell_type": "code",
      "metadata": {
        "id": "XuqTGhMahGBt"
      },
      "source": [
        "from torch.nn import NLLLoss, LogSoftmax, CrossEntropyLoss"
      ],
      "execution_count": 39,
      "outputs": []
    },
    {
      "cell_type": "code",
      "metadata": {
        "id": "3poy_mL3hGBu"
      },
      "source": [
        "criterion = NLLLoss()"
      ],
      "execution_count": 40,
      "outputs": []
    },
    {
      "cell_type": "code",
      "metadata": {
        "colab": {
          "base_uri": "https://localhost:8080/"
        },
        "id": "dFR10KMYhGBv",
        "outputId": "803c9450-6908-4bde-b121-b92d01d03894"
      },
      "source": [
        "loss = criterion(torch.log(output), target)\n",
        "loss"
      ],
      "execution_count": 41,
      "outputs": [
        {
          "output_type": "execute_result",
          "data": {
            "text/plain": [
              "tensor(2.2075, grad_fn=<NllLossBackward>)"
            ]
          },
          "metadata": {
            "tags": []
          },
          "execution_count": 41
        }
      ]
    },
    {
      "cell_type": "markdown",
      "metadata": {
        "id": "edWyG-XMhGBv"
      },
      "source": [
        "### 完成back propagation並更新梯度"
      ]
    },
    {
      "cell_type": "code",
      "metadata": {
        "id": "WyIc8GwphGBv"
      },
      "source": [
        "loss.backward()"
      ],
      "execution_count": 42,
      "outputs": []
    },
    {
      "cell_type": "code",
      "metadata": {
        "colab": {
          "base_uri": "https://localhost:8080/"
        },
        "id": "GrJEeHpanseY",
        "outputId": "bcaaed6f-1310-4782-99e5-544a245294dc"
      },
      "source": [
        "print('weight : {}'.format(model.layer1.linear[0].weight))\n",
        "print('\\n')\n",
        "print('grad : {}'.format(model.layer1.linear[0].weight.grad))"
      ],
      "execution_count": 43,
      "outputs": [
        {
          "output_type": "stream",
          "text": [
            "weight : Parameter containing:\n",
            "tensor([[-0.0081, -0.0354,  0.0548,  ...,  0.0269, -0.0479,  0.0596],\n",
            "        [-0.0245,  0.0241,  0.0508,  ..., -0.0383, -0.0368,  0.0595],\n",
            "        [ 0.0012, -0.0259,  0.0446,  ...,  0.0111,  0.0108, -0.0057],\n",
            "        ...,\n",
            "        [ 0.0278,  0.0206, -0.0387,  ...,  0.0385,  0.0253, -0.0475],\n",
            "        [ 0.0275, -0.0298,  0.0123,  ...,  0.0056, -0.0177,  0.0362],\n",
            "        [ 0.0012, -0.0533,  0.0419,  ..., -0.0334, -0.0103,  0.0613]],\n",
            "       requires_grad=True)\n",
            "\n",
            "\n",
            "grad : tensor([[ 3.3597e-04, -3.2556e-04,  2.6416e-03,  ...,  9.4995e-04,\n",
            "         -3.0276e-03, -1.0230e-03],\n",
            "        [ 1.2469e-04,  9.9443e-04,  2.1933e-03,  ...,  7.5693e-04,\n",
            "         -1.6727e-03, -3.1982e-04],\n",
            "        [-2.4734e-03, -1.4547e-02,  1.6177e-02,  ..., -7.1748e-04,\n",
            "         -1.9863e-02,  1.5758e-03],\n",
            "        ...,\n",
            "        [-1.1231e-02, -5.0577e-02, -4.2793e-02,  ..., -1.9578e-02,\n",
            "          2.3238e-02,  2.7673e-02],\n",
            "        [ 0.0000e+00,  0.0000e+00,  0.0000e+00,  ...,  0.0000e+00,\n",
            "          0.0000e+00,  0.0000e+00],\n",
            "        [-1.2421e-03,  8.7462e-03, -5.9168e-04,  ...,  4.8514e-05,\n",
            "          6.3448e-03,  4.6024e-03]])\n"
          ],
          "name": "stdout"
        }
      ]
    },
    {
      "cell_type": "code",
      "metadata": {
        "id": "y6SnfHdJhGBx"
      },
      "source": [
        "optimizer.step()"
      ],
      "execution_count": 44,
      "outputs": []
    },
    {
      "cell_type": "code",
      "metadata": {
        "colab": {
          "base_uri": "https://localhost:8080/"
        },
        "id": "HqT9zLCjhGBz",
        "outputId": "250df43b-52c1-4803-8c2a-f3590084fd74"
      },
      "source": [
        "print('weight : {}'.format(model.layer1.linear[0].weight))\n",
        "print('\\n')\n",
        "print('grad : {}'.format(model.layer1.linear[0].weight.grad))"
      ],
      "execution_count": 45,
      "outputs": [
        {
          "output_type": "stream",
          "text": [
            "weight : Parameter containing:\n",
            "tensor([[-0.0082, -0.0353,  0.0547,  ...,  0.0268, -0.0478,  0.0597],\n",
            "        [-0.0246,  0.0240,  0.0507,  ..., -0.0384, -0.0367,  0.0596],\n",
            "        [ 0.0013, -0.0258,  0.0445,  ...,  0.0112,  0.0109, -0.0058],\n",
            "        ...,\n",
            "        [ 0.0279,  0.0207, -0.0386,  ...,  0.0386,  0.0252, -0.0476],\n",
            "        [ 0.0274, -0.0297,  0.0122,  ...,  0.0055, -0.0176,  0.0361],\n",
            "        [ 0.0013, -0.0534,  0.0420,  ..., -0.0335, -0.0104,  0.0612]],\n",
            "       requires_grad=True)\n",
            "\n",
            "\n",
            "grad : tensor([[ 3.3597e-04, -3.2556e-04,  2.6416e-03,  ...,  9.4995e-04,\n",
            "         -3.0276e-03, -1.0230e-03],\n",
            "        [ 1.2469e-04,  9.9443e-04,  2.1933e-03,  ...,  7.5693e-04,\n",
            "         -1.6727e-03, -3.1982e-04],\n",
            "        [-2.4734e-03, -1.4547e-02,  1.6177e-02,  ..., -7.1748e-04,\n",
            "         -1.9863e-02,  1.5758e-03],\n",
            "        ...,\n",
            "        [-1.1231e-02, -5.0577e-02, -4.2793e-02,  ..., -1.9578e-02,\n",
            "          2.3238e-02,  2.7673e-02],\n",
            "        [ 0.0000e+00,  0.0000e+00,  0.0000e+00,  ...,  0.0000e+00,\n",
            "          0.0000e+00,  0.0000e+00],\n",
            "        [-1.2421e-03,  8.7462e-03, -5.9168e-04,  ...,  4.8514e-05,\n",
            "          6.3448e-03,  4.6024e-03]])\n"
          ],
          "name": "stdout"
        }
      ]
    },
    {
      "cell_type": "markdown",
      "metadata": {
        "id": "T_RzKL-DhGB2"
      },
      "source": [
        "### 清空 gradient"
      ]
    },
    {
      "cell_type": "code",
      "metadata": {
        "id": "ENg8d6fWhGB4"
      },
      "source": [
        "optimizer.zero_grad()"
      ],
      "execution_count": 46,
      "outputs": []
    },
    {
      "cell_type": "code",
      "metadata": {
        "colab": {
          "base_uri": "https://localhost:8080/"
        },
        "id": "1-tDi8LrhGB5",
        "outputId": "895b12d1-d712-42ba-e1d3-61ea95145d2f"
      },
      "source": [
        "print('weight : {}'.format(model.layer1.linear[0].weight))\n",
        "print('\\n')\n",
        "print('grad : {}'.format(model.layer1.linear[0].weight.grad))"
      ],
      "execution_count": 47,
      "outputs": [
        {
          "output_type": "stream",
          "text": [
            "weight : Parameter containing:\n",
            "tensor([[-0.0082, -0.0353,  0.0547,  ...,  0.0268, -0.0478,  0.0597],\n",
            "        [-0.0246,  0.0240,  0.0507,  ..., -0.0384, -0.0367,  0.0596],\n",
            "        [ 0.0013, -0.0258,  0.0445,  ...,  0.0112,  0.0109, -0.0058],\n",
            "        ...,\n",
            "        [ 0.0279,  0.0207, -0.0386,  ...,  0.0386,  0.0252, -0.0476],\n",
            "        [ 0.0274, -0.0297,  0.0122,  ...,  0.0055, -0.0176,  0.0361],\n",
            "        [ 0.0013, -0.0534,  0.0420,  ..., -0.0335, -0.0104,  0.0612]],\n",
            "       requires_grad=True)\n",
            "\n",
            "\n",
            "grad : tensor([[0., 0., 0.,  ..., 0., 0., 0.],\n",
            "        [0., 0., 0.,  ..., 0., 0., 0.],\n",
            "        [0., 0., 0.,  ..., 0., 0., 0.],\n",
            "        ...,\n",
            "        [0., 0., 0.,  ..., 0., 0., 0.],\n",
            "        [0., 0., 0.,  ..., 0., 0., 0.],\n",
            "        [0., 0., 0.,  ..., 0., 0., 0.]])\n"
          ],
          "name": "stdout"
        }
      ]
    },
    {
      "cell_type": "code",
      "metadata": {
        "id": "hfEFdo1XosOK"
      },
      "source": [
        ""
      ],
      "execution_count": null,
      "outputs": []
    }
  ]
}