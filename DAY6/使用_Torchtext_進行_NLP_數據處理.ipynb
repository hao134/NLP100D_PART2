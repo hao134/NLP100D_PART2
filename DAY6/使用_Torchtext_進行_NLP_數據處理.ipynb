{
  "nbformat": 4,
  "nbformat_minor": 0,
  "metadata": {
    "colab": {
      "name": "使用 Torchtext 進行 NLP 數據處理.ipynb",
      "provenance": []
    },
    "kernelspec": {
      "name": "python3",
      "display_name": "Python 3"
    }
  },
  "cells": [
    {
      "cell_type": "code",
      "metadata": {
        "id": "65rBJPht_COW"
      },
      "source": [
        "import re\n",
        "import torch\n",
        "from torchtext import data, datasets"
      ],
      "execution_count": 1,
      "outputs": []
    },
    {
      "cell_type": "code",
      "metadata": {
        "colab": {
          "base_uri": "https://localhost:8080/"
        },
        "id": "FkQIjesD_MXI",
        "outputId": "6cb138f0-e1fe-42ed-9be6-2265e39ab38a"
      },
      "source": [
        "corpus = ['i Love NLP', 'hi, nice To meet you', 'deep learning is fun',\n",
        "          'enjoy cupoy npl course', 'this is bad!']\n",
        "label = ['pos', 'pos', 'pos', 'pos', 'neg']\n",
        "input_data = list(zip(corpus, label))\n",
        "input_data"
      ],
      "execution_count": 2,
      "outputs": [
        {
          "output_type": "execute_result",
          "data": {
            "text/plain": [
              "[('i Love NLP', 'pos'),\n",
              " ('hi, nice To meet you', 'pos'),\n",
              " ('deep learning is fun', 'pos'),\n",
              " ('enjoy cupoy npl course', 'pos'),\n",
              " ('this is bad!', 'neg')]"
            ]
          },
          "metadata": {
            "tags": []
          },
          "execution_count": 2
        }
      ]
    },
    {
      "cell_type": "code",
      "metadata": {
        "id": "XhhBovWD_2hY"
      },
      "source": [
        "# remove non-english element\n",
        "def remove_non_char(x):\n",
        "  # here x is list of string\n",
        "  # ex: [\"i\", \"love\", \"nlp\"]\n",
        "\n",
        "  x = ' '.join(x)\n",
        "  x = re.sub(\"[^a-zA-Z]\",' ', x)\n",
        "  x = x.split()\n",
        "\n",
        "  return x"
      ],
      "execution_count": 3,
      "outputs": []
    },
    {
      "cell_type": "code",
      "metadata": {
        "id": "B8G6HA8QAT1y"
      },
      "source": [
        "# construct data and label's field\n",
        "text_field = data.Field(sequential=True, dtype=torch.float64, lower = True, tokenize='spacy',\n",
        "                        preprocessing=remove_non_char)\n",
        "label_field = data.Field(sequential=False)"
      ],
      "execution_count": 4,
      "outputs": []
    },
    {
      "cell_type": "code",
      "metadata": {
        "id": "W3SjCkT-DI0t"
      },
      "source": [
        "# construct example\n",
        "examples = []\n",
        "for (text, label) in input_data:\n",
        "  examples.append(data.Example.fromlist(data = [text, label],\n",
        "                                        fields = [('text', text_field),\n",
        "                                                  ('label', label_field)]))"
      ],
      "execution_count": 5,
      "outputs": []
    },
    {
      "cell_type": "code",
      "metadata": {
        "colab": {
          "base_uri": "https://localhost:8080/"
        },
        "id": "zsp6i3KVDsXO",
        "outputId": "796129db-1682-48ca-8b5c-2376457fc9d0"
      },
      "source": [
        "examples[1].text, examples[1].label"
      ],
      "execution_count": 6,
      "outputs": [
        {
          "output_type": "execute_result",
          "data": {
            "text/plain": [
              "(['hi', 'nice', 'to', 'meet', 'you'], 'pos')"
            ]
          },
          "metadata": {
            "tags": []
          },
          "execution_count": 6
        }
      ]
    },
    {
      "cell_type": "code",
      "metadata": {
        "id": "xi1mmlYuEmol"
      },
      "source": [
        "# construct Dataset\n",
        "train_data = data.Dataset(examples = examples, fields = {'text':text_field, 'label' : label_field})"
      ],
      "execution_count": 7,
      "outputs": []
    },
    {
      "cell_type": "code",
      "metadata": {
        "colab": {
          "base_uri": "https://localhost:8080/"
        },
        "id": "-f-7O-i8FlWD",
        "outputId": "084a51f3-b17d-4d86-9f37-0027c0320eb2"
      },
      "source": [
        "# construct dataset via dictionary\n",
        "text_field.build_vocab(train_data)\n",
        "label_field.build_vocab(train_data)\n",
        "\n",
        "print(f'Total {len(text_field.vocab)} unique words')"
      ],
      "execution_count": 8,
      "outputs": [
        {
          "output_type": "stream",
          "text": [
            "Total 20 unique words\n"
          ],
          "name": "stdout"
        }
      ]
    },
    {
      "cell_type": "code",
      "metadata": {
        "id": "C7HDpduzF_5K"
      },
      "source": [
        "#construct iterator\n",
        "iterator = data.Iterator(dataset = train_data,\n",
        "                         batch_size = 2,\n",
        "                         repeat = False,\n",
        "                         sort_key = lambda ex:len(ex.text))"
      ],
      "execution_count": 9,
      "outputs": []
    },
    {
      "cell_type": "code",
      "metadata": {
        "colab": {
          "base_uri": "https://localhost:8080/"
        },
        "id": "oNOZ4MYDHPQm",
        "outputId": "19f3f1f6-97ac-4ae0-c3f9-d56f6fb17829"
      },
      "source": [
        "for batch in iterator:\n",
        "  print(batch.text)\n",
        "  print(batch.label)"
      ],
      "execution_count": 10,
      "outputs": [
        {
          "output_type": "stream",
          "text": [
            "tensor([[ 9.,  6.],\n",
            "        [14., 11.],\n",
            "        [18.,  2.],\n",
            "        [13.,  8.],\n",
            "        [19.,  1.]], dtype=torch.float64)\n",
            "tensor([1, 1])\n",
            "tensor([[ 7., 17.],\n",
            "        [ 5.,  2.],\n",
            "        [16.,  3.],\n",
            "        [ 4.,  1.]], dtype=torch.float64)\n",
            "tensor([1, 2])\n",
            "tensor([[10.],\n",
            "        [12.],\n",
            "        [15.]], dtype=torch.float64)\n",
            "tensor([1])\n"
          ],
          "name": "stdout"
        }
      ]
    },
    {
      "cell_type": "code",
      "metadata": {
        "id": "pXyxYpwG9N23"
      },
      "source": [
        ""
      ],
      "execution_count": null,
      "outputs": []
    }
  ]
}