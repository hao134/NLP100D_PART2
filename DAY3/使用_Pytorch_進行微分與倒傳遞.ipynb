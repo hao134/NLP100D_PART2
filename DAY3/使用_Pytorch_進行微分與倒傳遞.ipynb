{
  "nbformat": 4,
  "nbformat_minor": 0,
  "metadata": {
    "colab": {
      "name": "使用 Pytorch 進行微分與倒傳遞.ipynb",
      "provenance": []
    },
    "kernelspec": {
      "name": "python3",
      "display_name": "Python 3"
    }
  },
  "cells": [
    {
      "cell_type": "code",
      "metadata": {
        "id": "7pUJQFqJYvaB"
      },
      "source": [
        "import torch"
      ],
      "execution_count": 1,
      "outputs": []
    },
    {
      "cell_type": "code",
      "metadata": {
        "id": "1vCG0UHya-e7"
      },
      "source": [
        "x = torch.rand((2,2))\n",
        "y = torch.rand((2,2))\n",
        "z = torch.rand((2,2), requires_grad= True)\n",
        "a = x + y\n",
        "b = a + z"
      ],
      "execution_count": 2,
      "outputs": []
    },
    {
      "cell_type": "code",
      "metadata": {
        "colab": {
          "base_uri": "https://localhost:8080/"
        },
        "id": "Lah_RM_8bRIK",
        "outputId": "79c6a2bb-6e40-4d99-8ef7-1228691b225a"
      },
      "source": [
        "a"
      ],
      "execution_count": 3,
      "outputs": [
        {
          "output_type": "execute_result",
          "data": {
            "text/plain": [
              "tensor([[0.8600, 0.8193],\n",
              "        [1.3577, 0.8277]])"
            ]
          },
          "metadata": {
            "tags": []
          },
          "execution_count": 3
        }
      ]
    },
    {
      "cell_type": "code",
      "metadata": {
        "colab": {
          "base_uri": "https://localhost:8080/"
        },
        "id": "co6bZaL2bRsn",
        "outputId": "a85f8425-ce35-42ef-e057-e523770ea633"
      },
      "source": [
        "b"
      ],
      "execution_count": 4,
      "outputs": [
        {
          "output_type": "execute_result",
          "data": {
            "text/plain": [
              "tensor([[1.3863, 1.0536],\n",
              "        [1.7717, 1.0167]], grad_fn=<AddBackward0>)"
            ]
          },
          "metadata": {
            "tags": []
          },
          "execution_count": 4
        }
      ]
    },
    {
      "cell_type": "code",
      "metadata": {
        "colab": {
          "base_uri": "https://localhost:8080/"
        },
        "id": "U8PG0F6ibScR",
        "outputId": "159f39f9-9fca-4635-933b-7742a5bed04c"
      },
      "source": [
        "print(f'x: {x.requires_grad}, y: {y.requires_grad}, z: {z.requires_grad}')\n",
        "print(f'a: {a.requires_grad}, y: {b.requires_grad}')"
      ],
      "execution_count": 5,
      "outputs": [
        {
          "output_type": "stream",
          "text": [
            "x: False, y: False, z: True\n",
            "a: False, y: True\n"
          ],
          "name": "stdout"
        }
      ]
    },
    {
      "cell_type": "code",
      "metadata": {
        "colab": {
          "base_uri": "https://localhost:8080/"
        },
        "id": "UpHZwMdAbxEh",
        "outputId": "f0bd5afb-08f2-4fcb-a821-fcb545ee300d"
      },
      "source": [
        "print(f'x: {x.grad_fn}, y:{y.grad_fn}, z:{z.grad_fn}')\n",
        "print(f'a: {a.grad_fn}, b:{b.grad_fn}')"
      ],
      "execution_count": 6,
      "outputs": [
        {
          "output_type": "stream",
          "text": [
            "x: None, y:None, z:None\n",
            "a: None, b:<AddBackward0 object at 0x7f634e845860>\n"
          ],
          "name": "stdout"
        }
      ]
    },
    {
      "cell_type": "code",
      "metadata": {
        "colab": {
          "base_uri": "https://localhost:8080/"
        },
        "id": "R1LGWMukce70",
        "outputId": "4a9f3ae8-dd61-49c2-d979-3e587e33db8f"
      },
      "source": [
        "x = torch.ones((2,2), requires_grad=True)\n",
        "x"
      ],
      "execution_count": 7,
      "outputs": [
        {
          "output_type": "execute_result",
          "data": {
            "text/plain": [
              "tensor([[1., 1.],\n",
              "        [1., 1.]], requires_grad=True)"
            ]
          },
          "metadata": {
            "tags": []
          },
          "execution_count": 7
        }
      ]
    },
    {
      "cell_type": "code",
      "metadata": {
        "colab": {
          "base_uri": "https://localhost:8080/"
        },
        "id": "Ud7R6Bn1crLM",
        "outputId": "93ae6f9f-8d4c-42db-bbdf-1b2c0385e6fb"
      },
      "source": [
        "y = x +2\n",
        "y, y.requires_grad"
      ],
      "execution_count": 8,
      "outputs": [
        {
          "output_type": "execute_result",
          "data": {
            "text/plain": [
              "(tensor([[3., 3.],\n",
              "         [3., 3.]], grad_fn=<AddBackward0>), True)"
            ]
          },
          "metadata": {
            "tags": []
          },
          "execution_count": 8
        }
      ]
    },
    {
      "cell_type": "code",
      "metadata": {
        "colab": {
          "base_uri": "https://localhost:8080/"
        },
        "id": "-tg4VqUpcwuL",
        "outputId": "e415834a-a510-45bf-8d51-35f92be38d85"
      },
      "source": [
        "z = y*y*3\n",
        "out = z.mean()\n",
        "print(z)\n",
        "print(out)"
      ],
      "execution_count": 9,
      "outputs": [
        {
          "output_type": "stream",
          "text": [
            "tensor([[27., 27.],\n",
            "        [27., 27.]], grad_fn=<MulBackward0>)\n",
            "tensor(27., grad_fn=<MeanBackward0>)\n"
          ],
          "name": "stdout"
        }
      ]
    },
    {
      "cell_type": "code",
      "metadata": {
        "colab": {
          "base_uri": "https://localhost:8080/"
        },
        "id": "zLEX1mk7c4ZB",
        "outputId": "4807b1de-db7e-4e6e-8428-de041c34fd7e"
      },
      "source": [
        "print(x.grad_fn)\n",
        "print(y.grad_fn)\n",
        "print(z.grad_fn)\n",
        "print(out.grad_fn)"
      ],
      "execution_count": 11,
      "outputs": [
        {
          "output_type": "stream",
          "text": [
            "None\n",
            "<AddBackward0 object at 0x7f634e86db00>\n",
            "<MulBackward0 object at 0x7f6346b31a20>\n",
            "<MeanBackward0 object at 0x7f634e86db00>\n"
          ],
          "name": "stdout"
        }
      ]
    },
    {
      "cell_type": "code",
      "metadata": {
        "id": "_ZO5lThXglMe"
      },
      "source": [
        "out.backward()"
      ],
      "execution_count": 12,
      "outputs": []
    },
    {
      "cell_type": "code",
      "metadata": {
        "colab": {
          "base_uri": "https://localhost:8080/"
        },
        "id": "pSznB3dkhgIp",
        "outputId": "daeeaf9f-a41b-455e-d841-383965d9bc0f"
      },
      "source": [
        "x.grad"
      ],
      "execution_count": 13,
      "outputs": [
        {
          "output_type": "execute_result",
          "data": {
            "text/plain": [
              "tensor([[4.5000, 4.5000],\n",
              "        [4.5000, 4.5000]])"
            ]
          },
          "metadata": {
            "tags": []
          },
          "execution_count": 13
        }
      ]
    },
    {
      "cell_type": "code",
      "metadata": {
        "colab": {
          "base_uri": "https://localhost:8080/"
        },
        "id": "yIwnxDgShhb6",
        "outputId": "46dcc9eb-b57e-42c8-f45c-630e517b1715"
      },
      "source": [
        "a = torch.randn(2, 2, requires_grad= False)\n",
        "a = ((a * 3) / (a -1 ))\n",
        "b = (a * a).sum()\n",
        "print(b.requires_grad, a.requires_grad)\n",
        "print(b.grad_fn)"
      ],
      "execution_count": 15,
      "outputs": [
        {
          "output_type": "stream",
          "text": [
            "False False\n",
            "None\n"
          ],
          "name": "stdout"
        }
      ]
    },
    {
      "cell_type": "code",
      "metadata": {
        "colab": {
          "base_uri": "https://localhost:8080/"
        },
        "id": "3fGU1lMqhvKA",
        "outputId": "f9def417-4ddb-46d6-d319-3153c8e5eb9c"
      },
      "source": [
        "# use torch.no_grad()\n",
        "a = torch.randn(2, 2)\n",
        "a = ((a * 3) / (a - 1))\n",
        "with torch.no_grad():\n",
        "  b = (a * a).sum()\n",
        "print(b.requires_grad, b.grad_fn)"
      ],
      "execution_count": 16,
      "outputs": [
        {
          "output_type": "stream",
          "text": [
            "False None\n"
          ],
          "name": "stdout"
        }
      ]
    },
    {
      "cell_type": "code",
      "metadata": {
        "id": "i1ov8F-BkDsv"
      },
      "source": [
        ""
      ],
      "execution_count": null,
      "outputs": []
    }
  ]
}