{
  "nbformat": 4,
  "nbformat_minor": 0,
  "metadata": {
    "kernelspec": {
      "display_name": "Python 3",
      "language": "python",
      "name": "python3"
    },
    "language_info": {
      "codemirror_mode": {
        "name": "ipython",
        "version": 3
      },
      "file_extension": ".py",
      "mimetype": "text/x-python",
      "name": "python",
      "nbconvert_exporter": "python",
      "pygments_lexer": "ipython3",
      "version": "3.7.4"
    },
    "colab": {
      "name": "Day8_作業.ipynb",
      "provenance": []
    }
  },
  "cells": [
    {
      "cell_type": "code",
      "metadata": {
        "id": "qpbaaIJNcjMh"
      },
      "source": [
        "import torch\n",
        "import torch.nn as nn\n",
        "import torchvision.models as models\n",
        "import torch.nn.functional as F\n",
        "import numpy as np"
      ],
      "execution_count": 1,
      "outputs": []
    },
    {
      "cell_type": "markdown",
      "metadata": {
        "id": "RIv7KMyYcjMl"
      },
      "source": [
        "## 依照指示取出模型特定層的資訊"
      ]
    },
    {
      "cell_type": "code",
      "metadata": {
        "id": "nKr_H_6YcjMl"
      },
      "source": [
        "# Define model\n",
        "class TheModelClass(nn.Module):\n",
        "    def __init__(self):\n",
        "        super(TheModelClass, self).__init__()\n",
        "        self.conv1 = nn.Conv2d(3, 6, 5)\n",
        "        self.pool = nn.MaxPool2d(2, 2)\n",
        "        self.conv2 = nn.Conv2d(6, 16, 5)\n",
        "        self.fc1 = nn.Linear(16* 5 * 5, 120)\n",
        "        self.fc2 = nn.Linear(120, 84)\n",
        "        self.fc3 = nn.Linear(84, 10)\n",
        "\n",
        "    def forward(self, x):\n",
        "        x = self.pool(F.relu(self.conv1(x)))\n",
        "        x = self.pool(F.relu(self.conv2(x)))\n",
        "        x = x.view(-1, 16 * 5 * 5)\n",
        "        x = F.relu(self.fc1(x))\n",
        "        x = F.relu(self.fc2(x))\n",
        "        x = self.fc3(x)\n",
        "        return x\n",
        "\n",
        "# Initialize model\n",
        "model = TheModelClass()\n"
      ],
      "execution_count": 2,
      "outputs": []
    },
    {
      "cell_type": "markdown",
      "metadata": {
        "id": "GyqxlxcHcjMm"
      },
      "source": [
        "### 取出 self.pool層兩次的輸出，包含：\n",
        "* x = self.pool(F.relu(self.conv1(x)))\n",
        "* x = self.pool(F.relu(self.conv2(x)))"
      ]
    },
    {
      "cell_type": "code",
      "metadata": {
        "colab": {
          "base_uri": "https://localhost:8080/"
        },
        "id": "tFkVAM8scjMm",
        "outputId": "7c79895f-db43-447b-f1ad-babf379343f1"
      },
      "source": [
        "outputs= []\n",
        "def layer1_hook(module, input_, output):\n",
        "    outputs.append(output)\n",
        "    \n",
        "model.pool.register_forward_hook(layer1_hook)"
      ],
      "execution_count": 4,
      "outputs": [
        {
          "output_type": "execute_result",
          "data": {
            "text/plain": [
              "<torch.utils.hooks.RemovableHandle at 0x7fb484ad7390>"
            ]
          },
          "metadata": {
            "tags": []
          },
          "execution_count": 4
        }
      ]
    },
    {
      "cell_type": "code",
      "metadata": {
        "id": "Jp-C0tvJcjMn"
      },
      "source": [
        "input_ = torch.randn(1, 3, 32, 32)\n",
        "output = model(input_)"
      ],
      "execution_count": 5,
      "outputs": []
    },
    {
      "cell_type": "code",
      "metadata": {
        "colab": {
          "base_uri": "https://localhost:8080/"
        },
        "id": "3WOgePm2cjMo",
        "outputId": "0f0752c1-f096-43ed-a048-00b1ed996928"
      },
      "source": [
        "outputs"
      ],
      "execution_count": 6,
      "outputs": [
        {
          "output_type": "execute_result",
          "data": {
            "text/plain": [
              "[tensor([[[[0.2826, 0.9714, 1.5220,  ..., 0.7373, 0.9289, 0.4099],\n",
              "           [0.4624, 0.9140, 1.0420,  ..., 0.0514, 0.6179, 0.4873],\n",
              "           [0.0000, 0.8100, 0.2740,  ..., 1.3211, 1.1572, 0.5283],\n",
              "           ...,\n",
              "           [0.3495, 0.1663, 0.6029,  ..., 0.5366, 0.6767, 0.7779],\n",
              "           [0.6466, 0.2827, 0.2755,  ..., 0.6202, 0.0000, 0.1652],\n",
              "           [0.5089, 0.0647, 0.0000,  ..., 1.1579, 0.0000, 0.8187]],\n",
              " \n",
              "          [[0.4079, 0.9405, 1.2423,  ..., 1.2189, 0.0000, 0.1604],\n",
              "           [0.0000, 0.4853, 0.1722,  ..., 0.2318, 0.3710, 0.6873],\n",
              "           [0.7707, 0.0000, 0.3716,  ..., 0.2827, 0.8774, 1.3938],\n",
              "           ...,\n",
              "           [1.2235, 0.6412, 0.0000,  ..., 1.4741, 0.4246, 0.3686],\n",
              "           [0.4636, 0.4482, 0.7489,  ..., 0.4843, 0.7810, 0.0000],\n",
              "           [0.5311, 0.0709, 0.6119,  ..., 0.3238, 0.7142, 0.8323]],\n",
              " \n",
              "          [[0.2491, 0.3374, 0.9442,  ..., 0.9518, 1.3392, 1.1033],\n",
              "           [1.3463, 0.9497, 1.1240,  ..., 0.4639, 1.6020, 1.1765],\n",
              "           [0.6703, 0.9717, 1.1713,  ..., 1.0986, 1.0233, 0.8906],\n",
              "           ...,\n",
              "           [0.5054, 0.5728, 0.7418,  ..., 0.2333, 0.5950, 0.9413],\n",
              "           [0.6547, 1.0529, 0.5320,  ..., 0.2886, 0.4556, 1.2222],\n",
              "           [0.4195, 0.7044, 0.3355,  ..., 0.2144, 0.0109, 0.0000]],\n",
              " \n",
              "          [[0.3050, 0.6804, 0.6226,  ..., 0.6136, 0.0000, 0.8760],\n",
              "           [0.1710, 1.3088, 0.4533,  ..., 0.7046, 0.7055, 0.3217],\n",
              "           [0.1560, 0.7744, 0.1950,  ..., 1.6791, 0.5706, 0.0000],\n",
              "           ...,\n",
              "           [0.6551, 0.2212, 0.7199,  ..., 0.4334, 0.2271, 0.5993],\n",
              "           [1.2463, 0.3364, 0.4926,  ..., 1.1779, 1.6359, 0.4743],\n",
              "           [0.6593, 1.0511, 0.2951,  ..., 0.0494, 0.5363, 0.7674]],\n",
              " \n",
              "          [[0.4654, 0.5897, 1.2007,  ..., 0.3387, 0.6757, 0.0000],\n",
              "           [0.0000, 0.0000, 0.8815,  ..., 0.9943, 0.5591, 0.3723],\n",
              "           [0.7386, 0.6471, 1.0548,  ..., 0.4098, 0.5373, 0.5823],\n",
              "           ...,\n",
              "           [0.7969, 0.2287, 0.5337,  ..., 0.6793, 0.2647, 0.3058],\n",
              "           [0.7336, 0.3000, 0.0153,  ..., 0.2176, 0.6319, 0.6346],\n",
              "           [0.9028, 0.3169, 0.3246,  ..., 0.4637, 0.6011, 0.0909]],\n",
              " \n",
              "          [[1.7137, 0.2383, 1.0438,  ..., 0.0000, 0.8842, 0.3397],\n",
              "           [0.5531, 0.2055, 0.4315,  ..., 0.2362, 0.1542, 0.9203],\n",
              "           [0.4333, 0.0000, 0.8111,  ..., 0.3338, 0.5908, 0.0000],\n",
              "           ...,\n",
              "           [0.0000, 0.9369, 0.5040,  ..., 0.3175, 0.4469, 0.0481],\n",
              "           [0.5212, 0.0710, 0.0000,  ..., 0.4433, 0.7639, 0.1477],\n",
              "           [0.2231, 0.0000, 0.7915,  ..., 0.0000, 0.0000, 0.3194]]]],\n",
              "        grad_fn=<MaxPool2DWithIndicesBackward>),\n",
              " tensor([[[[0.4603, 0.2364, 0.2547, 0.3544, 0.3598],\n",
              "           [0.1816, 0.1978, 0.5539, 0.4661, 0.0526],\n",
              "           [0.2459, 0.4394, 0.4382, 0.4189, 0.4357],\n",
              "           [0.2664, 0.3753, 0.3087, 0.1796, 0.2210],\n",
              "           [0.0226, 0.2165, 0.1395, 0.0888, 0.2761]],\n",
              " \n",
              "          [[0.3034, 0.1462, 0.0000, 0.0664, 0.0636],\n",
              "           [0.1653, 0.0000, 0.1727, 0.0000, 0.0000],\n",
              "           [0.0000, 0.0180, 0.1283, 0.0000, 0.0148],\n",
              "           [0.0422, 0.1910, 0.0243, 0.0000, 0.0000],\n",
              "           [0.0000, 0.1260, 0.1205, 0.0700, 0.0000]],\n",
              " \n",
              "          [[0.5154, 0.5861, 0.6872, 0.9197, 0.3006],\n",
              "           [0.1063, 0.5025, 0.5466, 0.6214, 0.4757],\n",
              "           [0.5684, 0.2760, 0.6180, 0.3141, 0.4609],\n",
              "           [0.8262, 0.3356, 0.4011, 0.3788, 0.4737],\n",
              "           [0.6329, 0.3024, 0.4753, 0.3157, 0.1794]],\n",
              " \n",
              "          [[0.2047, 0.4238, 0.2346, 0.0000, 0.0195],\n",
              "           [0.0000, 0.1687, 0.0908, 0.0397, 0.2175],\n",
              "           [0.3031, 0.1459, 0.3196, 0.0241, 0.4226],\n",
              "           [0.0476, 0.1163, 0.2033, 0.0424, 0.0125],\n",
              "           [0.0000, 0.1558, 0.1845, 0.0000, 0.0426]],\n",
              " \n",
              "          [[0.2748, 0.3955, 0.3067, 0.0872, 0.0702],\n",
              "           [0.0000, 0.1396, 0.1401, 0.1747, 0.1423],\n",
              "           [0.1220, 0.0972, 0.1043, 0.2818, 0.0000],\n",
              "           [0.0161, 0.1197, 0.2669, 0.3016, 0.3831],\n",
              "           [0.1780, 0.1222, 0.0475, 0.3729, 0.0000]],\n",
              " \n",
              "          [[0.5654, 0.6134, 0.5174, 0.8730, 0.6137],\n",
              "           [0.5150, 0.6924, 0.6531, 0.6597, 0.5708],\n",
              "           [0.4375, 0.7233, 0.6625, 0.8676, 0.6479],\n",
              "           [0.7627, 0.7791, 0.7976, 0.7361, 0.3321],\n",
              "           [0.9681, 1.0249, 0.5603, 0.8224, 0.5762]],\n",
              " \n",
              "          [[0.4575, 0.3327, 0.1590, 0.3160, 0.0621],\n",
              "           [0.1409, 0.0452, 0.1286, 0.0556, 0.0500],\n",
              "           [0.2761, 0.3637, 0.0000, 0.0000, 0.0000],\n",
              "           [0.0000, 0.0000, 0.1551, 0.3642, 0.0222],\n",
              "           [0.0000, 0.0000, 0.1594, 0.2557, 0.0746]],\n",
              " \n",
              "          [[0.2531, 0.0095, 0.2384, 0.2690, 0.3287],\n",
              "           [0.4510, 0.0000, 0.0999, 0.2830, 0.2413],\n",
              "           [0.4568, 0.5303, 0.0000, 0.0000, 0.0000],\n",
              "           [0.0514, 0.1046, 0.1902, 0.3856, 0.1256],\n",
              "           [0.0955, 0.1440, 0.0250, 0.2694, 0.3749]],\n",
              " \n",
              "          [[0.7861, 0.7455, 0.7240, 1.1624, 0.8452],\n",
              "           [0.9030, 0.7217, 0.6467, 1.0602, 0.7197],\n",
              "           [1.0946, 0.9897, 0.7511, 1.0575, 0.7602],\n",
              "           [0.8203, 0.8199, 0.7431, 0.8497, 0.9858],\n",
              "           [0.7379, 0.8408, 0.9427, 0.7730, 0.7642]],\n",
              " \n",
              "          [[0.0000, 0.0000, 0.1492, 0.3351, 0.1771],\n",
              "           [0.0000, 0.0000, 0.0389, 0.0000, 0.0000],\n",
              "           [0.0000, 0.0000, 0.0000, 0.0000, 0.0456],\n",
              "           [0.0404, 0.0000, 0.1279, 0.1186, 0.0000],\n",
              "           [0.4581, 0.3386, 0.0000, 0.0243, 0.0000]],\n",
              " \n",
              "          [[0.2527, 0.0000, 0.0042, 0.1480, 0.1826],\n",
              "           [0.0682, 0.1426, 0.0000, 0.0000, 0.2782],\n",
              "           [0.3045, 0.2400, 0.0618, 0.1188, 0.0315],\n",
              "           [0.0938, 0.0985, 0.2011, 0.0000, 0.3144],\n",
              "           [0.3432, 0.1642, 0.0601, 0.0160, 0.1699]],\n",
              " \n",
              "          [[0.2000, 0.4914, 0.0290, 0.4873, 0.2717],\n",
              "           [0.2758, 0.5730, 0.0699, 0.7211, 0.3699],\n",
              "           [0.2136, 0.1107, 0.6394, 0.4131, 0.4969],\n",
              "           [0.3131, 0.7201, 0.2139, 0.4557, 0.4430],\n",
              "           [0.0313, 0.4168, 0.2323, 0.1349, 0.3858]],\n",
              " \n",
              "          [[0.0000, 0.0000, 0.0000, 0.0000, 0.0000],\n",
              "           [0.0000, 0.0000, 0.0000, 0.0000, 0.0000],\n",
              "           [0.0000, 0.0000, 0.0000, 0.0000, 0.0000],\n",
              "           [0.0000, 0.0000, 0.0000, 0.0000, 0.0000],\n",
              "           [0.0000, 0.0000, 0.0000, 0.0000, 0.0000]],\n",
              " \n",
              "          [[0.0310, 0.1127, 0.1932, 0.1808, 0.5433],\n",
              "           [0.2932, 0.2846, 0.2919, 0.2332, 0.0000],\n",
              "           [0.2895, 0.6400, 0.1076, 0.0864, 0.0000],\n",
              "           [0.0519, 0.3172, 0.2984, 0.4355, 0.6100],\n",
              "           [0.4323, 0.5264, 0.0000, 0.0000, 0.3668]],\n",
              " \n",
              "          [[0.5166, 0.8121, 0.4945, 0.6085, 0.5652],\n",
              "           [0.3793, 0.6426, 0.5409, 0.4513, 0.3083],\n",
              "           [0.4881, 0.5620, 0.5657, 0.7571, 0.3302],\n",
              "           [0.4618, 0.6936, 0.5966, 0.4753, 0.3944],\n",
              "           [0.4390, 0.4074, 0.6966, 0.6507, 0.7098]],\n",
              " \n",
              "          [[0.3762, 0.6242, 0.1443, 0.4230, 0.4270],\n",
              "           [0.3033, 0.2478, 0.4995, 0.5556, 0.2999],\n",
              "           [0.4411, 0.1606, 0.3150, 0.4540, 0.1527],\n",
              "           [0.0915, 0.3254, 0.3962, 0.4915, 0.5090],\n",
              "           [0.2254, 0.3838, 0.5271, 0.8582, 0.3481]]]],\n",
              "        grad_fn=<MaxPool2DWithIndicesBackward>)]"
            ]
          },
          "metadata": {
            "tags": []
          },
          "execution_count": 6
        }
      ]
    },
    {
      "cell_type": "code",
      "metadata": {
        "colab": {
          "base_uri": "https://localhost:8080/"
        },
        "id": "CZM2NU9acjMp",
        "outputId": "c1339c6a-2bc5-4186-e09b-cc2ef89ff0f8"
      },
      "source": [
        "print(outputs[0].shape)\n",
        "print(outputs[1].shape)"
      ],
      "execution_count": 7,
      "outputs": [
        {
          "output_type": "stream",
          "text": [
            "torch.Size([1, 6, 14, 14])\n",
            "torch.Size([1, 16, 5, 5])\n"
          ],
          "name": "stdout"
        }
      ]
    },
    {
      "cell_type": "markdown",
      "metadata": {
        "id": "CyGCjq3vcjMq"
      },
      "source": [
        "## 加入自定義 initialization fuction"
      ]
    },
    {
      "cell_type": "markdown",
      "metadata": {
        "id": "P8oJlz8ocjMq"
      },
      "source": [
        "#### 對所有Conv2D層使用自定義initialization function\n",
        "* weight : nn.init.kaiming_normal_\n",
        "* bias : 全部輸入1"
      ]
    },
    {
      "cell_type": "code",
      "metadata": {
        "colab": {
          "base_uri": "https://localhost:8080/"
        },
        "id": "tePDaQkzrciJ",
        "outputId": "1746c18e-3fd8-4d5a-80ba-6a1607785b05"
      },
      "source": [
        "from torch.nn import init\n",
        "\n",
        "def weights_init(m):\n",
        "    #classname = m.__class__.__name__\n",
        "    if isinstance(m, nn.Conv2d):\n",
        "        #torch.nn.init.xavier_uniform_(m.weight)\n",
        "        nn.init.kaiming_normal_(m.weight.data,\n",
        "                                    a=0,\n",
        "                                    mode='fan_out',\n",
        "                                    nonlinearity='relu')\n",
        "        if m.bias is not None:\n",
        "          torch.nn.init.ones_(m.bias)\n",
        "            \n",
        "model.apply(weights_init)"
      ],
      "execution_count": 14,
      "outputs": [
        {
          "output_type": "execute_result",
          "data": {
            "text/plain": [
              "TheModelClass(\n",
              "  (conv1): Conv2d(3, 6, kernel_size=(5, 5), stride=(1, 1))\n",
              "  (pool): MaxPool2d(kernel_size=2, stride=2, padding=0, dilation=1, ceil_mode=False)\n",
              "  (conv2): Conv2d(6, 16, kernel_size=(5, 5), stride=(1, 1))\n",
              "  (fc1): Linear(in_features=400, out_features=120, bias=True)\n",
              "  (fc2): Linear(in_features=120, out_features=84, bias=True)\n",
              "  (fc3): Linear(in_features=84, out_features=10, bias=True)\n",
              ")"
            ]
          },
          "metadata": {
            "tags": []
          },
          "execution_count": 14
        }
      ]
    },
    {
      "cell_type": "markdown",
      "metadata": {
        "id": "NECmJokfcjMr"
      },
      "source": [
        "#### 查看 conv層的bias是否皆為1"
      ]
    },
    {
      "cell_type": "code",
      "metadata": {
        "colab": {
          "base_uri": "https://localhost:8080/"
        },
        "id": "CFfc9LB7cjMs",
        "outputId": "1f302650-a26a-4ab7-b1a2-78605f19f9f0"
      },
      "source": [
        "for name, parameters in model.named_parameters():\n",
        "    if ('conv' in name) and ('bias' in name):\n",
        "        print(name, parameters)\n",
        "        print('\\n')"
      ],
      "execution_count": 15,
      "outputs": [
        {
          "output_type": "stream",
          "text": [
            "conv1.bias Parameter containing:\n",
            "tensor([1., 1., 1., 1., 1., 1.], requires_grad=True)\n",
            "\n",
            "\n",
            "conv2.bias Parameter containing:\n",
            "tensor([1., 1., 1., 1., 1., 1., 1., 1., 1., 1., 1., 1., 1., 1., 1., 1.],\n",
            "       requires_grad=True)\n",
            "\n",
            "\n"
          ],
          "name": "stdout"
        }
      ]
    },
    {
      "cell_type": "code",
      "metadata": {
        "id": "xvCHDxCxcjMt"
      },
      "source": [
        ""
      ],
      "execution_count": null,
      "outputs": []
    }
  ]
}