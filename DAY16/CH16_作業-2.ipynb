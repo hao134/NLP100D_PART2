{
  "nbformat": 4,
  "nbformat_minor": 0,
  "metadata": {
    "kernelspec": {
      "display_name": "Python 3",
      "language": "python",
      "name": "python3"
    },
    "language_info": {
      "codemirror_mode": {
        "name": "ipython",
        "version": 3
      },
      "file_extension": ".py",
      "mimetype": "text/x-python",
      "name": "python",
      "nbconvert_exporter": "python",
      "pygments_lexer": "ipython3",
      "version": "3.7.4"
    },
    "colab": {
      "name": "CH16_作業.ipynb",
      "provenance": []
    }
  },
  "cells": [
    {
      "cell_type": "markdown",
      "metadata": {
        "id": "6CQt_BSTqfoo"
      },
      "source": [
        "# 作業 : 調整 word2vec 模型的不同訓練參數"
      ]
    },
    {
      "cell_type": "markdown",
      "metadata": {
        "id": "U1TMH0jjqfor"
      },
      "source": [
        "# [作業目標]\n",
        "- 調整 word2vec 模型的不同參數, 分別觀察效果並比較"
      ]
    },
    {
      "cell_type": "markdown",
      "metadata": {
        "id": "tGLCdt7sqfos"
      },
      "source": [
        "# [作業重點]\n",
        "- 調整 word2vec 模型的不同訓練參數, 分別觀察效果並比較"
      ]
    },
    {
      "cell_type": "code",
      "metadata": {
        "id": "l3QVBl7Sqfos"
      },
      "source": [
        "# 載入 gensim 與 word2vec 模型\n",
        "import gensim\n",
        "from gensim.models import word2vec\n",
        "\n",
        "# 忽略警告訊息\n",
        "import warnings\n",
        "warnings.filterwarnings(\"ignore\")"
      ],
      "execution_count": 1,
      "outputs": []
    },
    {
      "cell_type": "code",
      "metadata": {
        "colab": {
          "base_uri": "https://localhost:8080/"
        },
        "id": "zKBs3y6UtgEc",
        "outputId": "fcafbfcf-73ec-432b-9ed3-ba76e037c766"
      },
      "source": [
        "!wget http://mattmahoney.net/dc/text8.zip\n",
        "!unzip text8.zip"
      ],
      "execution_count": 2,
      "outputs": [
        {
          "output_type": "stream",
          "text": [
            "--2021-01-27 07:19:30--  http://mattmahoney.net/dc/text8.zip\n",
            "Resolving mattmahoney.net (mattmahoney.net)... 67.195.197.24\n",
            "Connecting to mattmahoney.net (mattmahoney.net)|67.195.197.24|:80... connected.\n",
            "HTTP request sent, awaiting response... 200 OK\n",
            "Length: 31344016 (30M) [application/zip]\n",
            "Saving to: ‘text8.zip’\n",
            "\n",
            "text8.zip           100%[===================>]  29.89M  2.07MB/s    in 15s     \n",
            "\n",
            "2021-01-27 07:19:45 (2.04 MB/s) - ‘text8.zip’ saved [31344016/31344016]\n",
            "\n",
            "Archive:  text8.zip\n",
            "  inflating: text8                   \n"
          ],
          "name": "stdout"
        }
      ]
    },
    {
      "cell_type": "markdown",
      "metadata": {
        "id": "blSA-pfAqfot"
      },
      "source": [
        "# Word2Vec 訓練參數\n",
        "- size : 詞向量的維度\n",
        "- min_count : 最小次數，一個詞出現的次數若小於 min_count，則拋棄不參與訓練。\n",
        "- window : 訓練窗格大小，也就是一個詞在看上下文關係時，上下應該各看幾個字的意思。\n",
        "- 更多參數說明，請參閱官方文件\n",
        "https://radimrehurek.com/gensim/models/word2vec.html#gensim.models.word2vec.Text8Corpus"
      ]
    },
    {
      "cell_type": "code",
      "metadata": {
        "id": "pjOgJZ1hqfot"
      },
      "source": [
        "# 使用 gensim 訓練 word2vec 詞向量\n",
        "sentences = word2vec.Text8Corpus('./text8')\n",
        "model = word2vec.Word2Vec(sentences, size=10)\n",
        "#model = word2vec.Word2Vec(sentences, size=10, min_count=3, window=5)"
      ],
      "execution_count": 3,
      "outputs": []
    },
    {
      "cell_type": "code",
      "metadata": {
        "colab": {
          "base_uri": "https://localhost:8080/"
        },
        "id": "6BSKoUBhqfou",
        "outputId": "cc102029-4093-490c-c29f-5946a044ff4b"
      },
      "source": [
        "# 顯示最相近的字彙\n",
        "model.most_similar(['woman'])"
      ],
      "execution_count": 4,
      "outputs": [
        {
          "output_type": "execute_result",
          "data": {
            "text/plain": [
              "[('angry', 0.9443917870521545),\n",
              " ('siblings', 0.9379791617393494),\n",
              " ('husband', 0.9265410304069519),\n",
              " ('gibeah', 0.9244379997253418),\n",
              " ('sing', 0.917561948299408),\n",
              " ('daughters', 0.9072643518447876),\n",
              " ('heard', 0.9055014252662659),\n",
              " ('love', 0.9036343097686768),\n",
              " ('lover', 0.9000006318092346),\n",
              " ('dying', 0.8943802714347839)]"
            ]
          },
          "metadata": {
            "tags": []
          },
          "execution_count": 4
        }
      ]
    },
    {
      "cell_type": "code",
      "metadata": {
        "colab": {
          "base_uri": "https://localhost:8080/"
        },
        "id": "F1PXsttQqfov",
        "outputId": "6b0aa02d-42ac-4570-8078-74287e735176"
      },
      "source": [
        "# 顯示最相近的字彙(附加反義詞)\n",
        "model.most_similar(positive=['woman', 'king'], negative=['man'], topn=5)"
      ],
      "execution_count": 5,
      "outputs": [
        {
          "output_type": "execute_result",
          "data": {
            "text/plain": [
              "[('tsar', 0.9282662868499756),\n",
              " ('assassinated', 0.914304256439209),\n",
              " ('emperor', 0.9057285785675049),\n",
              " ('crowned', 0.905256986618042),\n",
              " ('deposed', 0.9031223058700562)]"
            ]
          },
          "metadata": {
            "tags": []
          },
          "execution_count": 5
        }
      ]
    },
    {
      "cell_type": "code",
      "metadata": {
        "colab": {
          "base_uri": "https://localhost:8080/",
          "height": 37
        },
        "id": "nLBL3Es2qfov",
        "outputId": "7f5fc952-e4a0-4de3-a1b3-e655fdd03df9"
      },
      "source": [
        "# 挑選最不相同的字彙\n",
        "model.wv.doesnt_match(\"breakfast cereal dinner lunch\".split())"
      ],
      "execution_count": 6,
      "outputs": [
        {
          "output_type": "execute_result",
          "data": {
            "application/vnd.google.colaboratory.intrinsic+json": {
              "type": "string"
            },
            "text/plain": [
              "'cereal'"
            ]
          },
          "metadata": {
            "tags": []
          },
          "execution_count": 6
        }
      ]
    },
    {
      "cell_type": "code",
      "metadata": {
        "colab": {
          "base_uri": "https://localhost:8080/"
        },
        "id": "Rjsq9ZAiqfow",
        "outputId": "e012deae-9395-4c0b-d614-c2c5847feb6e"
      },
      "source": [
        "# 顯示字彙間的相似性\n",
        "model.wv.similarity('woman', 'man')"
      ],
      "execution_count": 7,
      "outputs": [
        {
          "output_type": "execute_result",
          "data": {
            "text/plain": [
              "0.868004"
            ]
          },
          "metadata": {
            "tags": []
          },
          "execution_count": 7
        }
      ]
    },
    {
      "cell_type": "code",
      "metadata": {
        "colab": {
          "base_uri": "https://localhost:8080/"
        },
        "id": "o2uxds3Wqfow",
        "outputId": "2357e88b-1cd3-43ea-da32-c53faf27b231"
      },
      "source": [
        "# 顯示字彙的詞向量\n",
        "model['computer']"
      ],
      "execution_count": 8,
      "outputs": [
        {
          "output_type": "execute_result",
          "data": {
            "text/plain": [
              "array([-5.189927  , -5.043546  , -2.3028586 ,  1.414655  ,  0.36990553,\n",
              "        5.31249   ,  2.578273  , -2.26718   , -3.1036706 , -0.93289906],\n",
              "      dtype=float32)"
            ]
          },
          "metadata": {
            "tags": []
          },
          "execution_count": 8
        }
      ]
    },
    {
      "cell_type": "code",
      "metadata": {
        "id": "7mald4quqfox"
      },
      "source": [
        "model = word2vec.Word2Vec(sentences, size=10, min_count=3, window=5)"
      ],
      "execution_count": 9,
      "outputs": []
    },
    {
      "cell_type": "code",
      "metadata": {
        "colab": {
          "base_uri": "https://localhost:8080/"
        },
        "id": "ag4KPo-7vBu1",
        "outputId": "48ee8ec4-e1c5-4de1-e229-6db12010f481"
      },
      "source": [
        "# 顯示最相近的字彙\n",
        "model.most_similar(['woman'])"
      ],
      "execution_count": 10,
      "outputs": [
        {
          "output_type": "execute_result",
          "data": {
            "text/plain": [
              "[('angry', 0.9302777647972107),\n",
              " ('lennon', 0.9302104115486145),\n",
              " ('elisha', 0.9244479537010193),\n",
              " ('loved', 0.9238390922546387),\n",
              " ('sing', 0.9125450849533081),\n",
              " ('odin', 0.9122686982154846),\n",
              " ('love', 0.91185462474823),\n",
              " ('herself', 0.9101935625076294),\n",
              " ('angels', 0.9101755023002625),\n",
              " ('younger', 0.9099645018577576)]"
            ]
          },
          "metadata": {
            "tags": []
          },
          "execution_count": 10
        }
      ]
    },
    {
      "cell_type": "code",
      "metadata": {
        "colab": {
          "base_uri": "https://localhost:8080/"
        },
        "id": "D6-phHvYvugz",
        "outputId": "59f1579c-0baa-4789-ab45-e5f5581cf0cf"
      },
      "source": [
        "# 顯示最相近的字彙(附加反義詞)\n",
        "model.most_similar(positive=['woman', 'king'], negative=['man'], topn=5)"
      ],
      "execution_count": 11,
      "outputs": [
        {
          "output_type": "execute_result",
          "data": {
            "text/plain": [
              "[('reigned', 0.9503540992736816),\n",
              " ('deposed', 0.9493151903152466),\n",
              " ('tsar', 0.9366494417190552),\n",
              " ('mindaugas', 0.9364131689071655),\n",
              " ('sultan', 0.9297733902931213)]"
            ]
          },
          "metadata": {
            "tags": []
          },
          "execution_count": 11
        }
      ]
    },
    {
      "cell_type": "code",
      "metadata": {
        "colab": {
          "base_uri": "https://localhost:8080/",
          "height": 37
        },
        "id": "llXV5lIlv2bX",
        "outputId": "b752225a-9d7e-4dea-c309-42df38d91250"
      },
      "source": [
        "# 挑選最不相同的字彙\n",
        "model.wv.doesnt_match(\"breakfast cereal dinner lunch\".split())"
      ],
      "execution_count": 12,
      "outputs": [
        {
          "output_type": "execute_result",
          "data": {
            "application/vnd.google.colaboratory.intrinsic+json": {
              "type": "string"
            },
            "text/plain": [
              "'cereal'"
            ]
          },
          "metadata": {
            "tags": []
          },
          "execution_count": 12
        }
      ]
    },
    {
      "cell_type": "code",
      "metadata": {
        "colab": {
          "base_uri": "https://localhost:8080/"
        },
        "id": "sLsbIvgDv43c",
        "outputId": "f13cad9f-45ac-4af3-e26f-39db172b47bd"
      },
      "source": [
        "# 顯示字彙間的相似性\n",
        "model.wv.similarity('woman', 'man')"
      ],
      "execution_count": 13,
      "outputs": [
        {
          "output_type": "execute_result",
          "data": {
            "text/plain": [
              "0.8778384"
            ]
          },
          "metadata": {
            "tags": []
          },
          "execution_count": 13
        }
      ]
    },
    {
      "cell_type": "code",
      "metadata": {
        "colab": {
          "base_uri": "https://localhost:8080/"
        },
        "id": "0CPAUNCYv7wB",
        "outputId": "6293155c-a99f-4566-f2e3-30613359deb8"
      },
      "source": [
        "# 顯示字彙的詞向量\n",
        "model['computer']"
      ],
      "execution_count": 14,
      "outputs": [
        {
          "output_type": "execute_result",
          "data": {
            "text/plain": [
              "array([-2.03388   , -4.4214687 , -0.73669857, -1.495707  , -1.4887706 ,\n",
              "        7.449845  ,  3.4516423 , -2.9107134 , -3.8585677 ,  2.0577643 ],\n",
              "      dtype=float32)"
            ]
          },
          "metadata": {
            "tags": []
          },
          "execution_count": 14
        }
      ]
    },
    {
      "cell_type": "code",
      "metadata": {
        "id": "cdFbWzlHv9is"
      },
      "source": [
        ""
      ],
      "execution_count": null,
      "outputs": []
    }
  ]
}