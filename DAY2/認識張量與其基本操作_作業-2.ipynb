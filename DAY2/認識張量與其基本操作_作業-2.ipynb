{
  "nbformat": 4,
  "nbformat_minor": 0,
  "metadata": {
    "kernelspec": {
      "display_name": "pytorch_env",
      "language": "python",
      "name": "pytorch_env"
    },
    "language_info": {
      "codemirror_mode": {
        "name": "ipython",
        "version": 3
      },
      "file_extension": ".py",
      "mimetype": "text/x-python",
      "name": "python",
      "nbconvert_exporter": "python",
      "pygments_lexer": "ipython3",
      "version": "3.7.3"
    },
    "colab": {
      "name": "認識張量與其基本操作_作業.ipynb",
      "provenance": []
    }
  },
  "cells": [
    {
      "cell_type": "markdown",
      "metadata": {
        "id": "eJItEJEAc6y8"
      },
      "source": [
        "### 作業目的: 更加熟習pytorch的tensor操作\n",
        "\n",
        "pytorch中有提供很多的API，讓使用者針對tensor進行各式各樣的操作，本次的作業希望讀者由pytorch的[官方網站](https://pytorch.org/docs/stable/torch.html)中選定四個針對tensor操作的API，對他的使用方法進行範例操作演練。"
      ]
    },
    {
      "cell_type": "markdown",
      "metadata": {
        "id": "1x77eOdWc6zA"
      },
      "source": [
        "### 選定的API 函數\n",
        "\n",
        "**請寫下選定的API functions**\n",
        "\n",
        "ex:\n",
        "* torch.from_array() / tensor.numpy()\n",
        "* torch.unsqueeze() / torch.squeeze()\n",
        "* tensor.transpose() / tensor.permute()\n",
        "* torch.reshape() / tensor.view()"
      ]
    },
    {
      "cell_type": "code",
      "metadata": {
        "id": "d2P9hak1c6zB"
      },
      "source": [
        "# Import torch and other required modules\n",
        "import torch\n",
        "import numpy as np"
      ],
      "execution_count": 1,
      "outputs": []
    },
    {
      "cell_type": "markdown",
      "metadata": {
        "id": "eHNPDmfVc6zC"
      },
      "source": [
        "### 範例:\n",
        "### Function 1 - torch.from_array() / tensor.numpy()"
      ]
    },
    {
      "cell_type": "code",
      "metadata": {
        "colab": {
          "base_uri": "https://localhost:8080/"
        },
        "id": "E0isIkccc6zC",
        "outputId": "ee16dc72-2f88-4365-b733-bf910bdefe1b"
      },
      "source": [
        "# Example 1 - 將torch tensor與numpy ndarray互相轉換\n",
        "a = np.random.rand(1,2,3,3)\n",
        "print(f'a: {type(a)}, {a.dtype}')\n",
        "b = torch.from_numpy(a)\n",
        "print(f'b: {type(b)}, {b.dtype}')\n",
        "c = torch.tensor(a)\n",
        "print(f'c: {type(c)}, {c.dtype}')\n",
        "d = c.numpy()\n",
        "print(f'd: {type(d)}, {d.dtype}')"
      ],
      "execution_count": 2,
      "outputs": [
        {
          "output_type": "stream",
          "text": [
            "a: <class 'numpy.ndarray'>, float64\n",
            "b: <class 'torch.Tensor'>, torch.float64\n",
            "c: <class 'torch.Tensor'>, torch.float64\n",
            "d: <class 'numpy.ndarray'>, float64\n"
          ],
          "name": "stdout"
        }
      ]
    },
    {
      "cell_type": "code",
      "metadata": {
        "colab": {
          "base_uri": "https://localhost:8080/"
        },
        "id": "Vx5A-_imc6zE",
        "outputId": "bd1d775e-f45a-43d2-81be-2b634e3dd957"
      },
      "source": [
        "# Example 2 - 經過轉換後，torch tensor與numpy array依然有相近的資料型態\n",
        "a = np.random.randint(low=0, high=10, size=(2,2))\n",
        "print(f'a: {type(a)}, {a.dtype}')\n",
        "b = torch.from_numpy(a)\n",
        "print(f'b: {type(b)}, {b.dtype}')\n",
        "c = torch.tensor(a)\n",
        "print(f'c: {type(c)}, {c.dtype}')\n",
        "d = c.numpy()\n",
        "print(f'd: {type(d)}, {d.dtype}')"
      ],
      "execution_count": 13,
      "outputs": [
        {
          "output_type": "stream",
          "text": [
            "a: <class 'numpy.ndarray'>, int64\n",
            "b: <class 'torch.Tensor'>, torch.int64\n",
            "c: <class 'torch.Tensor'>, torch.int64\n",
            "d: <class 'numpy.ndarray'>, int64\n"
          ],
          "name": "stdout"
        }
      ]
    },
    {
      "cell_type": "markdown",
      "metadata": {
        "id": "rCPwHAZSc6zF"
      },
      "source": [
        "### Function 1 - *torch.unsqueeze() / torch.squeeze()*"
      ]
    },
    {
      "cell_type": "code",
      "metadata": {
        "colab": {
          "base_uri": "https://localhost:8080/"
        },
        "id": "RzkyfAZhc6zG",
        "outputId": "5bfac5e4-5554-43a8-b92f-12ce6b5ed34f"
      },
      "source": [
        "# Example 1 - ### Unsqueeze Returns a new tensor with a dimension of size one inserted at the specified position.\n",
        "x = torch.tensor([1, 2, 3, 4])\n",
        "print(torch.unsqueeze(x, 0))\n",
        "print(torch.unsqueeze(x, 1))"
      ],
      "execution_count": 15,
      "outputs": [
        {
          "output_type": "stream",
          "text": [
            "tensor([[1, 2, 3, 4]])\n",
            "tensor([[1],\n",
            "        [2],\n",
            "        [3],\n",
            "        [4]])\n"
          ],
          "name": "stdout"
        }
      ]
    },
    {
      "cell_type": "code",
      "metadata": {
        "colab": {
          "base_uri": "https://localhost:8080/"
        },
        "id": "MU3TPWrZc6zG",
        "outputId": "017df049-a61a-43ee-d859-ac476108fcb2"
      },
      "source": [
        "# Example 2 - Returns a tensor with all the dimensions of input of size 1 removed.\n",
        "x = torch.zeros(2,1,2,1,2)\n",
        "print(x.size())\n",
        "y = torch.squeeze(x)\n",
        "print(y.size())\n",
        "# When dim is given, a squeeze operation is done only in the given dimension\n",
        "y = torch.squeeze(x, 0)\n",
        "print(y.size())\n",
        "y = torch.squeeze(x,1)\n",
        "print(y.size())"
      ],
      "execution_count": 17,
      "outputs": [
        {
          "output_type": "stream",
          "text": [
            "torch.Size([2, 1, 2, 1, 2])\n",
            "torch.Size([2, 2, 2])\n",
            "torch.Size([2, 1, 2, 1, 2])\n",
            "torch.Size([2, 2, 1, 2])\n"
          ],
          "name": "stdout"
        }
      ]
    },
    {
      "cell_type": "markdown",
      "metadata": {
        "id": "-xLJvgvdc6zH"
      },
      "source": [
        "### Function 2 - tensor.transpose() / tensor.permute()"
      ]
    },
    {
      "cell_type": "code",
      "metadata": {
        "colab": {
          "base_uri": "https://localhost:8080/"
        },
        "id": "RszOE-d1c6zI",
        "outputId": "a827e8dd-99a6-4bec-f79b-bd00ed16d7b4"
      },
      "source": [
        "# Example 1 - transpose: Returns a tensor that is a transposed version of input. The given dimensions dim0 and dim1 are swapped.\n",
        "### your code ###\n",
        "x = torch.randn(2, 3)\n",
        "print(\"x\",x)\n",
        "print(\"transpose(x,0,1)\",torch.transpose(x, 0, 1))"
      ],
      "execution_count": 18,
      "outputs": [
        {
          "output_type": "stream",
          "text": [
            "x tensor([[-0.2913,  0.4091,  0.3064],\n",
            "        [-1.6714,  1.2433,  2.0563]])\n",
            "transpose(x,0,1) tensor([[-0.2913, -1.6714],\n",
            "        [ 0.4091,  1.2433],\n",
            "        [ 0.3064,  2.0563]])\n"
          ],
          "name": "stdout"
        }
      ]
    },
    {
      "cell_type": "code",
      "metadata": {
        "colab": {
          "base_uri": "https://localhost:8080/"
        },
        "id": "UkAvm2-1c6zI",
        "outputId": "fa693acc-e05a-4827-872d-1a108833996d"
      },
      "source": [
        "# Example 2 - ### your explanation ###\n",
        "### your code ###\n",
        "y = x.permute((1,0))\n",
        "y"
      ],
      "execution_count": 24,
      "outputs": [
        {
          "output_type": "execute_result",
          "data": {
            "text/plain": [
              "tensor([[-0.2913, -1.6714],\n",
              "        [ 0.4091,  1.2433],\n",
              "        [ 0.3064,  2.0563]])"
            ]
          },
          "metadata": {
            "tags": []
          },
          "execution_count": 24
        }
      ]
    },
    {
      "cell_type": "markdown",
      "metadata": {
        "id": "FwCZBDt2c6zI"
      },
      "source": [
        "### Function 3 - torch.reshape() / tensor.view()"
      ]
    },
    {
      "cell_type": "code",
      "metadata": {
        "colab": {
          "base_uri": "https://localhost:8080/"
        },
        "id": "Ljc4YE9Yc6zJ",
        "outputId": "9f68e894-7bec-49d2-edfb-2464b8d611ed"
      },
      "source": [
        "# Example 1 - Reshape\n",
        "\"\"\"\n",
        "  Returns a tensor with the same data and number of elements as input,\n",
        "but with the specified shape. When possible, the returned tensor will be a view of input. \n",
        "Otherwise, it will be a copy. Contiguous inputs and inputs with compatible strides can be reshaped without copying,\n",
        "but you should not depend on the copying vs. viewing behavior.\n",
        "\"\"\"\n",
        "### your code ###\n",
        "a = torch.arange(4.)\n",
        "print(torch.reshape(a, (2,2)))\n",
        "b = torch.tensor([[0,1], [2,3]])\n",
        "print(torch.reshape(b, (-1,)))\n"
      ],
      "execution_count": 26,
      "outputs": [
        {
          "output_type": "stream",
          "text": [
            "tensor([[0., 1.],\n",
            "        [2., 3.]])\n",
            "tensor([0, 1, 2, 3])\n"
          ],
          "name": "stdout"
        }
      ]
    },
    {
      "cell_type": "code",
      "metadata": {
        "colab": {
          "base_uri": "https://localhost:8080/"
        },
        "id": "QIv8mdX9c6zJ",
        "outputId": "b3204823-3ea6-4039-a1aa-b09e8fafec7b"
      },
      "source": [
        "# Example 2 - ### tensor.view() -> New view of array with the same data.\n",
        "### your code ###\n",
        "\n",
        "x = np.array([(1, 2),(3,4)], dtype=[('a', np.int8), ('b', np.int8)])\n",
        "xv = x.view(dtype=np.int8).reshape(-1,2)\n",
        "xv"
      ],
      "execution_count": 32,
      "outputs": [
        {
          "output_type": "execute_result",
          "data": {
            "text/plain": [
              "array([[1, 2],\n",
              "       [3, 4]], dtype=int8)"
            ]
          },
          "metadata": {
            "tags": []
          },
          "execution_count": 32
        }
      ]
    },
    {
      "cell_type": "markdown",
      "metadata": {
        "id": "HGQUk5Zoc6zK"
      },
      "source": [
        "### Function 4 - torch.split()/ tensor.split()"
      ]
    },
    {
      "cell_type": "code",
      "metadata": {
        "colab": {
          "base_uri": "https://localhost:8080/"
        },
        "id": "D6YDBlr6c6zL",
        "outputId": "ca1b5fb5-792e-4962-88dc-8ab390ad00f7"
      },
      "source": [
        "# Example 1 - ### Splits the tensor into chunks. Each chunk is a view of the original tensor.\n",
        "### your code ###\n",
        "a = torch.arange(10).reshape(5, 2)\n",
        "print(a)\n",
        "print(torch.split(a, 2))\n",
        "print(torch.split(a, [1,4]))"
      ],
      "execution_count": 33,
      "outputs": [
        {
          "output_type": "stream",
          "text": [
            "tensor([[0, 1],\n",
            "        [2, 3],\n",
            "        [4, 5],\n",
            "        [6, 7],\n",
            "        [8, 9]])\n",
            "(tensor([[0, 1],\n",
            "        [2, 3]]), tensor([[4, 5],\n",
            "        [6, 7]]), tensor([[8, 9]]))\n",
            "(tensor([[0, 1]]), tensor([[2, 3],\n",
            "        [4, 5],\n",
            "        [6, 7],\n",
            "        [8, 9]]))\n"
          ],
          "name": "stdout"
        }
      ]
    },
    {
      "cell_type": "code",
      "metadata": {
        "colab": {
          "base_uri": "https://localhost:8080/"
        },
        "id": "OL6zQxTZc6zL",
        "outputId": "1dd42337-67dd-4741-ebe9-92988c5ccd66"
      },
      "source": [
        "# Example 2 - tensor.split() Split an array into multiple sub-arrays as views into ary.\n",
        "x = np.arange(9.)\n",
        "print(np.split(x, 3))\n",
        "x = np.arange(8.)\n",
        "np.split(x, [3, 5, 6, 10])"
      ],
      "execution_count": 34,
      "outputs": [
        {
          "output_type": "stream",
          "text": [
            "[array([0., 1., 2.]), array([3., 4., 5.]), array([6., 7., 8.])]\n"
          ],
          "name": "stdout"
        },
        {
          "output_type": "execute_result",
          "data": {
            "text/plain": [
              "[array([0., 1., 2.]),\n",
              " array([3., 4.]),\n",
              " array([5.]),\n",
              " array([6., 7.]),\n",
              " array([], dtype=float64)]"
            ]
          },
          "metadata": {
            "tags": []
          },
          "execution_count": 34
        }
      ]
    },
    {
      "cell_type": "code",
      "metadata": {
        "id": "OV6Bpssqc6zM"
      },
      "source": [
        "# size or sections"
      ],
      "execution_count": null,
      "outputs": []
    }
  ]
}