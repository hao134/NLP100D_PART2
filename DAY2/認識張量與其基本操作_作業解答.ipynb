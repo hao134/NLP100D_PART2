{
 "cells": [
  {
   "cell_type": "markdown",
   "metadata": {},
   "source": [
    "### 作業目的: 更加熟習pytorch的tensor操作\n",
    "\n",
    "pytorch中有提供很多的API，讓使用者針對tensor進行各式各樣的操作，本次的作業希望讀者由pytorch的[官方網站](https://pytorch.org/docs/stable/torch.html)中選定四個針對tensor操作的API，對他的使用方法進行範例操作演練。"
   ]
  },
  {
   "cell_type": "markdown",
   "metadata": {},
   "source": [
    "### 選定的API 函數\n",
    "\n",
    "* torch.from_array() / tensor.numpy()\n",
    "* torch.unsqueeze() / torch.squeeze()\n",
    "* tensor.transpose() / tensor.permute()\n",
    "* torch.reshape() / tensor.view()\n",
    "* torch.randn() / torch.rand() / torch.randint()"
   ]
  },
  {
   "cell_type": "code",
   "execution_count": 1,
   "metadata": {},
   "outputs": [],
   "source": [
    "# Import torch and other required modules\n",
    "import torch\n",
    "import numpy as np"
   ]
  },
  {
   "cell_type": "markdown",
   "metadata": {},
   "source": [
    "### Function 1 - torch.from_array() / tensor.numpy()"
   ]
  },
  {
   "cell_type": "code",
   "execution_count": 2,
   "metadata": {},
   "outputs": [
    {
     "name": "stdout",
     "output_type": "stream",
     "text": [
      "a: <class 'numpy.ndarray'>, float64\n",
      "b: <class 'torch.Tensor'>, torch.float64\n",
      "c: <class 'torch.Tensor'>, torch.float64\n",
      "d: <class 'numpy.ndarray'>, float64\n"
     ]
    }
   ],
   "source": [
    "# Example 1 - change torch.tensor to numpy array and change numpy array to torch tensor\n",
    "a = np.random.rand(1,2,3,3)\n",
    "print(f'a: {type(a)}, {a.dtype}')\n",
    "b = torch.from_numpy(a)\n",
    "print(f'b: {type(b)}, {b.dtype}')\n",
    "c = torch.tensor(a)\n",
    "print(f'c: {type(c)}, {c.dtype}')\n",
    "d = c.numpy()\n",
    "print(f'd: {type(d)}, {d.dtype}')"
   ]
  },
  {
   "cell_type": "code",
   "execution_count": 3,
   "metadata": {},
   "outputs": [
    {
     "name": "stdout",
     "output_type": "stream",
     "text": [
      "a: <class 'numpy.ndarray'>, int64\n",
      "b: <class 'torch.Tensor'>, torch.int64\n",
      "c: <class 'torch.Tensor'>, torch.int64\n",
      "d: <class 'numpy.ndarray'>, int64\n"
     ]
    }
   ],
   "source": [
    "# Example 2 - we can see that the transformed dtype will in accordance with the original one\n",
    "a = np.random.randint(low=0, high=10, size=(2,2))\n",
    "print(f'a: {type(a)}, {a.dtype}')\n",
    "b = torch.from_numpy(a)\n",
    "print(f'b: {type(b)}, {b.dtype}')\n",
    "c = torch.tensor(a)\n",
    "print(f'c: {type(c)}, {c.dtype}')\n",
    "d = c.numpy()\n",
    "print(f'd: {type(d)}, {d.dtype}')"
   ]
  },
  {
   "cell_type": "markdown",
   "metadata": {},
   "source": [
    "### Function 2 - torch.unsqueeze() / torch.squeeze()"
   ]
  },
  {
   "cell_type": "code",
   "execution_count": 4,
   "metadata": {},
   "outputs": [
    {
     "name": "stdout",
     "output_type": "stream",
     "text": [
      "Before unsqueeze/squeeze: torch.Size([1, 2, 2])\n",
      "After unsqueeze: torch.Size([1, 1, 2, 2])\n",
      "After squeeze: torch.Size([2, 2])\n"
     ]
    }
   ],
   "source": [
    "# Example 1 - expanding/squeeze the dimension\n",
    "a = torch.tensor([[[1,2],[2,3]]], dtype=torch.float32)\n",
    "print(f'Before unsqueeze/squeeze: {a.size()}')\n",
    "\n",
    "b = torch.unsqueeze(a, dim=0)\n",
    "print(f'After unsqueeze: {b.size()}')\n",
    "\n",
    "c = torch.squeeze(a, dim=0)\n",
    "print(f'After squeeze: {c.size()}')"
   ]
  },
  {
   "cell_type": "code",
   "execution_count": 5,
   "metadata": {},
   "outputs": [
    {
     "name": "stdout",
     "output_type": "stream",
     "text": [
      "Before unsqueeze/squeeze: torch.Size([2, 2])\n",
      "After unsqueeze: torch.Size([2, 1, 2])\n",
      "After squeeze: torch.Size([2, 2])\n"
     ]
    }
   ],
   "source": [
    "# Example 2 - expanding/squeeze the dimension\n",
    "a = torch.tensor([[1,2],[2,3]], dtype=torch.float32)\n",
    "print(f'Before unsqueeze/squeeze: {a.size()}')\n",
    "\n",
    "b = torch.unsqueeze(a, dim=1)\n",
    "print(f'After unsqueeze: {b.size()}')\n",
    "\n",
    "c = torch.squeeze(a, dim=1)\n",
    "print(f'After squeeze: {c.size()}')"
   ]
  },
  {
   "cell_type": "markdown",
   "metadata": {},
   "source": [
    "### Function 3 - tensor.transpose() / tensor.permute()"
   ]
  },
  {
   "cell_type": "code",
   "execution_count": 6,
   "metadata": {},
   "outputs": [
    {
     "name": "stdout",
     "output_type": "stream",
     "text": [
      "Original shape: torch.Size([2, 2, 3])\n",
      "Transpose shape: torch.Size([3, 2, 2])\n",
      "Permute shape: torch.Size([2, 3, 2])\n"
     ]
    }
   ],
   "source": [
    "# Example 1 - transpose and permute the tensor dimension\n",
    "a = torch.tensor([[[1,2,3], [4,5,6]], [[7,8,9], [10,11,12]]])\n",
    "print(f'Original shape: {a.size()}')\n",
    "\n",
    "b = a.transpose(dim0=0, dim1=2)\n",
    "print(f'Transpose shape: {b.size()}')\n",
    "\n",
    "c = a.permute((1,2,0))\n",
    "print(f'Permute shape: {c.size()}')"
   ]
  },
  {
   "cell_type": "code",
   "execution_count": 7,
   "metadata": {},
   "outputs": [
    {
     "name": "stdout",
     "output_type": "stream",
     "text": [
      "Original shape: torch.Size([2, 2])\n",
      "tensor([[1, 2],\n",
      "        [3, 4]])\n",
      "Transpose shape: torch.Size([2, 2])\n",
      "tensor([[1, 3],\n",
      "        [2, 4]])\n",
      "Permute shape: torch.Size([2, 2])\n",
      "tensor([[1, 2],\n",
      "        [3, 4]])\n",
      "\n",
      "\n",
      "a: tensor([[0, 2],\n",
      "        [3, 4]])\n",
      "b: tensor([[0, 3],\n",
      "        [2, 4]])\n",
      "c: tensor([[0, 2],\n",
      "        [3, 4]])\n"
     ]
    }
   ],
   "source": [
    "# Example 2 - sharing memory\n",
    "a = torch.tensor([[1,2],[3,4]])\n",
    "print(f'Original shape: {a.size()}')\n",
    "print(a)\n",
    "\n",
    "b = a.transpose(dim0=0, dim1=1)\n",
    "print(f'Transpose shape: {b.size()}')\n",
    "print(b)\n",
    "\n",
    "c = a.permute((0,1))\n",
    "print(f'Permute shape: {c.size()}')\n",
    "print(c)\n",
    "\n",
    "print('\\n')\n",
    "# change a[0][0] to 0\n",
    "a[0][0] = 0\n",
    "\n",
    "# check the value of a, b, c\n",
    "print(f'a: {a}')\n",
    "print(f'b: {b}')\n",
    "print(f'c: {c}')"
   ]
  },
  {
   "cell_type": "code",
   "execution_count": 8,
   "metadata": {},
   "outputs": [
    {
     "name": "stdout",
     "output_type": "stream",
     "text": [
      "140316317518208\n",
      "140316317518208\n",
      "140316317518208\n"
     ]
    }
   ],
   "source": [
    "print(a.data_ptr()) \n",
    "print(b.data_ptr())\n",
    "print(c.data_ptr())"
   ]
  },
  {
   "cell_type": "markdown",
   "metadata": {},
   "source": [
    "### Function 4 - torch.reshape() / tensor.view()"
   ]
  },
  {
   "cell_type": "code",
   "execution_count": 9,
   "metadata": {},
   "outputs": [
    {
     "name": "stdout",
     "output_type": "stream",
     "text": [
      "Original shape: torch.Size([2, 2, 3])\n",
      "Reshape shape: torch.Size([4, 3])\n",
      "View shape: torch.Size([4, 3])\n"
     ]
    }
   ],
   "source": [
    "# Example 1 - reshape and view to change tensor's dimension\n",
    "\n",
    "a = torch.tensor([[[1,2,3], [4,5,6]], [[7,8,9], [10,11,12]]])\n",
    "print(f'Original shape: {a.size()}')\n",
    "\n",
    "b = torch.reshape(a, shape=(-1, 3))\n",
    "print(f'Reshape shape: {b.size()}')\n",
    "\n",
    "c = a.view((-1,3))\n",
    "print(f'View shape: {c.size()}')"
   ]
  },
  {
   "cell_type": "code",
   "execution_count": 10,
   "metadata": {},
   "outputs": [
    {
     "name": "stdout",
     "output_type": "stream",
     "text": [
      "Original shape: torch.Size([2, 2])\n",
      "tensor([[1, 2],\n",
      "        [3, 4]])\n",
      "Transpose shape: torch.Size([4])\n",
      "tensor([1, 2, 3, 4])\n",
      "Permute shape: torch.Size([4])\n",
      "tensor([1, 2, 3, 4])\n",
      "\n",
      "\n",
      "a: tensor([[0, 2],\n",
      "        [3, 4]])\n",
      "b: tensor([0, 2, 3, 4])\n",
      "c: tensor([0, 2, 3, 4])\n"
     ]
    }
   ],
   "source": [
    "# Example 2 - sharing memory and continuous data\n",
    "a = torch.tensor([[1,2],[3,4]])\n",
    "print(f'Original shape: {a.size()}')\n",
    "print(a)\n",
    "\n",
    "b = torch.reshape(a, (-1,))\n",
    "print(f'Transpose shape: {b.size()}')\n",
    "print(b)\n",
    "\n",
    "c = a.view((-1))\n",
    "print(f'Permute shape: {c.size()}')\n",
    "print(c)\n",
    "\n",
    "print('\\n')\n",
    "# change a[0][0] to 0\n",
    "a[0][0] = 0\n",
    "\n",
    "# check the value of a, b, c\n",
    "print(f'a: {a}')\n",
    "print(f'b: {b}')\n",
    "print(f'c: {c}')"
   ]
  }
 ],
 "metadata": {
  "kernelspec": {
   "display_name": "pytorch_env",
   "language": "python",
   "name": "pytorch_env"
  },
  "language_info": {
   "codemirror_mode": {
    "name": "ipython",
    "version": 3
   },
   "file_extension": ".py",
   "mimetype": "text/x-python",
   "name": "python",
   "nbconvert_exporter": "python",
   "pygments_lexer": "ipython3",
   "version": "3.7.3"
  }
 },
 "nbformat": 4,
 "nbformat_minor": 2
}
