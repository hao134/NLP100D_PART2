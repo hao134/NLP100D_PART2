{
  "nbformat": 4,
  "nbformat_minor": 0,
  "metadata": {
    "kernelspec": {
      "display_name": "pytorch_env",
      "language": "python",
      "name": "pytorch_env"
    },
    "language_info": {
      "codemirror_mode": {
        "name": "ipython",
        "version": 3
      },
      "file_extension": ".py",
      "mimetype": "text/x-python",
      "name": "python",
      "nbconvert_exporter": "python",
      "pygments_lexer": "ipython3",
      "version": "3.7.3"
    },
    "colab": {
      "name": "word2vec的高速化_作業.ipynb",
      "provenance": [],
      "toc_visible": true
    }
  },
  "cells": [
    {
      "cell_type": "markdown",
      "metadata": {
        "id": "KHoD08uHpiim"
      },
      "source": [
        "### 作業目的: 更加了解word2vec高速化\n",
        "本次作業主要是幫同學更熟悉與了解透過各項技巧來加速word2vec的原理，同學可以參考章節講義來回答下列問題。"
      ]
    },
    {
      "cell_type": "markdown",
      "metadata": {
        "id": "hDlUl4Fspiip"
      },
      "source": [
        "### Q1 - 請問word2vec原本的設計有何問題以及可以怎麼對相對應的問題做改善?\n",
        "\n",
        "\n",
        "Answer:\n",
        "\n",
        "當資料庫太大時，會佔據過多記憶體，也會造成計算效率差\n",
        "\n",
        "-> 透過embedding 後可己減少記憶體用量，\n",
        "\n",
        "-> 計算效率問題可以透過 hierarchical softmax or negative sampling 來解決"
      ]
    },
    {
      "cell_type": "markdown",
      "metadata": {
        "id": "fvOitaXopiiq"
      },
      "source": [
        "### Q2 - 請問在Negative Sampling中的次方係數，會如何影響字詞的抽取?\n",
        "Hint: 如何影響高頻詞與低頻詞的抽取機率\n",
        "\n",
        "Answer:\n",
        "##your answer##\n",
        "The 3/4 power makes less frequent words be sampled more often, without it probability of sampling frequent words such as “the”, “is” etc would be much higher than words like “zebra”, “elephant” etc.\n",
        "\n",
        "https://towardsdatascience.com/nlp-101-negative-sampling-and-glove-936c88f3bc68"
      ]
    },
    {
      "cell_type": "code",
      "metadata": {
        "id": "gS4yEMFMpiiq"
      },
      "source": [
        ""
      ],
      "execution_count": null,
      "outputs": []
    }
  ]
}